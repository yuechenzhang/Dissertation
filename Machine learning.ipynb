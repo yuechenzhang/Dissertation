{
 "cells": [
  {
   "cell_type": "code",
   "execution_count": 1,
   "metadata": {
    "collapsed": true
   },
   "outputs": [],
   "source": [
    "import datetime\n",
    "import json\n",
    "import numpy\n",
    "from pandas.io.json import json_normalize\n",
    "from time import time\n",
    "%matplotlib inline\n",
    "import pandas as pd\n",
    "import numpy as np\n",
    "import matplotlib.mlab as mlab\n",
    "import matplotlib.pyplot as plt\n",
    "import scipy.stats as sp\n",
    "from plotly import figure_factory as ff\n",
    "from sklearn.metrics import confusion_matrix\n",
    "from sklearn.metrics import precision_recall_fscore_support as score"
   ]
  },
  {
   "cell_type": "code",
   "execution_count": 2,
   "metadata": {
    "collapsed": false
   },
   "outputs": [],
   "source": [
    "df_user=pd.read_csv(\"yelp_academic_dataset_user.csv\",encoding='latin-1') "
   ]
  },
  {
   "cell_type": "code",
   "execution_count": 2,
   "metadata": {
    "collapsed": true
   },
   "outputs": [],
   "source": [
    " df_user_class=pd.read_csv('df_user_class_1.csv',encoding='latin-1') "
   ]
  },
  {
   "cell_type": "code",
   "execution_count": 424,
   "metadata": {
    "collapsed": true
   },
   "outputs": [],
   "source": [
    " df_user_class=pd.read_csv('df_user_class_2.csv',encoding='latin-1') "
   ]
  },
  {
   "cell_type": "code",
   "execution_count": 3,
   "metadata": {
    "collapsed": true
   },
   "outputs": [],
   "source": [
    " df_user_class=pd.read_csv('wicoxon classification.csv',encoding='latin-1') "
   ]
  },
  {
   "cell_type": "markdown",
   "metadata": {},
   "source": [
    "# Build up user features"
   ]
  },
  {
   "cell_type": "code",
   "execution_count": 4,
   "metadata": {
    "collapsed": true
   },
   "outputs": [],
   "source": [
    "def filter_user(df,n,m):\n",
    "    return df[(df['review_count']>n )&(df['review_count']<m)]"
   ]
  },
  {
   "cell_type": "code",
   "execution_count": 5,
   "metadata": {
    "collapsed": false
   },
   "outputs": [
    {
     "data": {
      "text/plain": [
       "26351"
      ]
     },
     "execution_count": 5,
     "metadata": {},
     "output_type": "execute_result"
    }
   ],
   "source": [
    "len(df_user_class)"
   ]
  },
  {
   "cell_type": "markdown",
   "metadata": {},
   "source": [
    "## 1. Change yelping_since to number of years\n",
    "The yelp dataset is due to 30th June 2017. Therefore, the yelping_age will be the number of year from yelping_since to 30th June 2017"
   ]
  },
  {
   "cell_type": "code",
   "execution_count": 4,
   "metadata": {
    "collapsed": true
   },
   "outputs": [],
   "source": [
    "df_user.yelping_since=pd.to_datetime(df_user.yelping_since) #Convert the yelping_since from str to date\n",
    "end_date=datetime.datetime(2017,6,30) #Setup the end point of yelping\n",
    "df_user['yelping_age']=end_date-df_user.yelping_since #Calculate users yelping age"
   ]
  },
  {
   "cell_type": "markdown",
   "metadata": {},
   "source": [
    "## 2. Change friends to number of friends"
   ]
  },
  {
   "cell_type": "code",
   "execution_count": 5,
   "metadata": {
    "collapsed": true
   },
   "outputs": [],
   "source": [
    "def count_friends(row):\n",
    "    return len(row.friends.split(','))"
   ]
  },
  {
   "cell_type": "code",
   "execution_count": 6,
   "metadata": {
    "collapsed": true
   },
   "outputs": [],
   "source": [
    "df_user['num_friends']=df_user.apply(lambda row: count_friends(row), axis=1)"
   ]
  },
  {
   "cell_type": "markdown",
   "metadata": {},
   "source": [
    "## 3. change elite to several features"
   ]
  },
  {
   "cell_type": "markdown",
   "metadata": {},
   "source": [
    "#### 1. change elite to number of times been elite"
   ]
  },
  {
   "cell_type": "code",
   "execution_count": 7,
   "metadata": {
    "collapsed": true
   },
   "outputs": [],
   "source": [
    "def count_elite(x):\n",
    "    a=x.replace(\"'\",\"\").strip('[]').split(',')\n",
    "    if a==['None']:\n",
    "        return 0\n",
    "    else:\n",
    "        return len(a)"
   ]
  },
  {
   "cell_type": "code",
   "execution_count": 8,
   "metadata": {
    "collapsed": true
   },
   "outputs": [],
   "source": [
    "df_user['num_elite']=df_user.elite.apply(lambda x: count_elite(x))"
   ]
  },
  {
   "cell_type": "markdown",
   "metadata": {},
   "source": [
    "## 4. user_ratings list"
   ]
  },
  {
   "cell_type": "code",
   "execution_count": 10,
   "metadata": {
    "collapsed": false
   },
   "outputs": [],
   "source": [
    "def ratings_list(x):\n",
    "    a=x.replace(\"'\",\"\").strip('[]').split(',')\n",
    "    return list(map(float,a))\n",
    "        "
   ]
  },
  {
   "cell_type": "code",
   "execution_count": 11,
   "metadata": {
    "collapsed": false
   },
   "outputs": [],
   "source": [
    "df_user_class['ratings']=df_user_class.stars.apply(lambda x: ratings_list(x))"
   ]
  },
  {
   "cell_type": "code",
   "execution_count": 15,
   "metadata": {
    "collapsed": true
   },
   "outputs": [
    {
     "data": {
      "text/html": [
       "<div>\n",
       "<table border=\"1\" class=\"dataframe\">\n",
       "  <thead>\n",
       "    <tr style=\"text-align: right;\">\n",
       "      <th></th>\n",
       "      <th>Unnamed: 0</th>\n",
       "      <th>user_id</th>\n",
       "      <th>stars</th>\n",
       "      <th>cum_rating</th>\n",
       "      <th>review_count</th>\n",
       "      <th>user_class</th>\n",
       "      <th>ratings</th>\n",
       "    </tr>\n",
       "  </thead>\n",
       "  <tbody>\n",
       "    <tr>\n",
       "      <th>0</th>\n",
       "      <td>0</td>\n",
       "      <td>---1lKK3aKOuomHnwAkAow</td>\n",
       "      <td>[4.0, 4.0, 5.0, 1.0, 1.0, 5.0, 5.0, 1.0, 3.0, ...</td>\n",
       "      <td>[4.0, 4.0, 4.5, 3.5, 3.5, 4.5, 4.5, 2.5, 3.5, ...</td>\n",
       "      <td>100</td>\n",
       "      <td>0</td>\n",
       "      <td>[4.0, 4.0, 5.0, 1.0, 1.0, 5.0, 5.0, 1.0, 3.0, ...</td>\n",
       "    </tr>\n",
       "    <tr>\n",
       "      <th>1</th>\n",
       "      <td>1</td>\n",
       "      <td>--2vR0DIsmQ6WfcSzKWigw</td>\n",
       "      <td>[3.0, 5.0, 4.0, 3.0, 4.0, 5.0, 4.0, 5.0, 3.0, ...</td>\n",
       "      <td>[2.5, 3.5, 3.0, 4.0, 4.0, 4.5, 3.0, 4.5, 4.0, ...</td>\n",
       "      <td>28</td>\n",
       "      <td>1</td>\n",
       "      <td>[3.0, 5.0, 4.0, 3.0, 4.0, 5.0, 4.0, 5.0, 3.0, ...</td>\n",
       "    </tr>\n",
       "    <tr>\n",
       "      <th>2</th>\n",
       "      <td>2</td>\n",
       "      <td>--4rAAfZnEIAKJE80aIiYg</td>\n",
       "      <td>[1.0, 3.0, 4.0, 1.0, 1.0, 4.0, 5.0, 1.0, 1.0, ...</td>\n",
       "      <td>[3.0, 3.5, 4.0, 3.5, 2.5, 4.0, 4.5, 3.5, 3.5, ...</td>\n",
       "      <td>22</td>\n",
       "      <td>1</td>\n",
       "      <td>[1.0, 3.0, 4.0, 1.0, 1.0, 4.0, 5.0, 1.0, 1.0, ...</td>\n",
       "    </tr>\n",
       "    <tr>\n",
       "      <th>3</th>\n",
       "      <td>3</td>\n",
       "      <td>--CIuK7sUpaNzalLAlHJKA</td>\n",
       "      <td>[4.0, 1.0, 4.0, 4.0, 5.0, 4.0, 4.0, 3.0, 4.0, ...</td>\n",
       "      <td>[4.0, 3.0, 3.5, 3.0, 3.0, 3.0, 3.0, 4.0, 3.0, ...</td>\n",
       "      <td>27</td>\n",
       "      <td>0</td>\n",
       "      <td>[4.0, 1.0, 4.0, 4.0, 5.0, 4.0, 4.0, 3.0, 4.0, ...</td>\n",
       "    </tr>\n",
       "    <tr>\n",
       "      <th>4</th>\n",
       "      <td>4</td>\n",
       "      <td>--Qh8yKWAvIP4V4K8ZPfHA</td>\n",
       "      <td>[4.0, 1.0, 2.0, 4.0, 5.0, 1.0, 4.0, 3.0, 2.0, ...</td>\n",
       "      <td>[4.0, 3.0, 3.0, 3.5, 4.5, 1.0, 4.0, 3.5, 4.0, ...</td>\n",
       "      <td>342</td>\n",
       "      <td>1</td>\n",
       "      <td>[4.0, 1.0, 2.0, 4.0, 5.0, 1.0, 4.0, 3.0, 2.0, ...</td>\n",
       "    </tr>\n",
       "    <tr>\n",
       "      <th>5</th>\n",
       "      <td>5</td>\n",
       "      <td>--RlSfc-QmcHFGHyX6aVjA</td>\n",
       "      <td>[3.0, 4.0, 4.0, 5.0, 2.0, 4.0, 5.0, 4.0, 3.0, ...</td>\n",
       "      <td>[4.0, 4.5, 4.0, 4.5, 3.5, 4.0, 4.5, 4.0, 3.0, ...</td>\n",
       "      <td>77</td>\n",
       "      <td>1</td>\n",
       "      <td>[3.0, 4.0, 4.0, 5.0, 2.0, 4.0, 5.0, 4.0, 3.0, ...</td>\n",
       "    </tr>\n",
       "    <tr>\n",
       "      <th>6</th>\n",
       "      <td>6</td>\n",
       "      <td>--YhjyV-ce1nFLYxP49C5A</td>\n",
       "      <td>[5.0, 3.0, 3.0, 4.0, 1.0, 5.0, 3.0, 3.0, 1.0, ...</td>\n",
       "      <td>[3.0, 4.0, 3.5, 2.5, 4.0, 4.0, 3.5, 4.0, 2.0, ...</td>\n",
       "      <td>26</td>\n",
       "      <td>0</td>\n",
       "      <td>[5.0, 3.0, 3.0, 4.0, 1.0, 5.0, 3.0, 3.0, 1.0, ...</td>\n",
       "    </tr>\n",
       "    <tr>\n",
       "      <th>7</th>\n",
       "      <td>7</td>\n",
       "      <td>--ZNfWKj1VyVElRx6-g1fg</td>\n",
       "      <td>[5.0, 4.0, 5.0, 5.0, 3.0, 5.0, 5.0, 5.0, 5.0, ...</td>\n",
       "      <td>[3.5, 4.0, 3.5, 4.0, 3.0, 4.5, 3.5, 4.5, 4.0, ...</td>\n",
       "      <td>25</td>\n",
       "      <td>0</td>\n",
       "      <td>[5.0, 4.0, 5.0, 5.0, 3.0, 5.0, 5.0, 5.0, 5.0, ...</td>\n",
       "    </tr>\n",
       "    <tr>\n",
       "      <th>8</th>\n",
       "      <td>8</td>\n",
       "      <td>--_WPY2SoNRJGVtUr2ZcwQ</td>\n",
       "      <td>[2.0, 5.0, 1.0, 5.0, 5.0, 2.0, 2.0, 4.0, 5.0, ...</td>\n",
       "      <td>[3.5, 4.0, 4.0, 4.0, 4.0, 3.0, 3.5, 2.5, 3.5, ...</td>\n",
       "      <td>32</td>\n",
       "      <td>1</td>\n",
       "      <td>[2.0, 5.0, 1.0, 5.0, 5.0, 2.0, 2.0, 4.0, 5.0, ...</td>\n",
       "    </tr>\n",
       "    <tr>\n",
       "      <th>9</th>\n",
       "      <td>9</td>\n",
       "      <td>--ty7Z9fEt08E3dS3_qoSA</td>\n",
       "      <td>[5.0, 4.0, 4.0, 4.0, 3.0, 4.0, 5.0, 4.0, 4.0, ...</td>\n",
       "      <td>[3.5, 4.0, 4.0, 3.0, 3.5, 3.5, 4.0, 4.0, 3.5, ...</td>\n",
       "      <td>28</td>\n",
       "      <td>1</td>\n",
       "      <td>[5.0, 4.0, 4.0, 4.0, 3.0, 4.0, 5.0, 4.0, 4.0, ...</td>\n",
       "    </tr>\n",
       "    <tr>\n",
       "      <th>10</th>\n",
       "      <td>10</td>\n",
       "      <td>-0-hVEpwWEcJLJoGq3rE3g</td>\n",
       "      <td>[4.0, 4.0, 3.0, 5.0, 3.0, 2.0, 3.0, 4.0, 4.0, ...</td>\n",
       "      <td>[4.5, 4.0, 4.0, 5.0, 3.5, 4.0, 3.5, 4.0, 4.0, ...</td>\n",
       "      <td>44</td>\n",
       "      <td>0</td>\n",
       "      <td>[4.0, 4.0, 3.0, 5.0, 3.0, 2.0, 3.0, 4.0, 4.0, ...</td>\n",
       "    </tr>\n",
       "    <tr>\n",
       "      <th>11</th>\n",
       "      <td>11</td>\n",
       "      <td>-00kdEIhCt-ODaV4BS-EAg</td>\n",
       "      <td>[3.0, 3.0, 3.0, 5.0, 1.0, 1.0, 5.0, 4.0, 3.0, ...</td>\n",
       "      <td>[3.0, 3.5, 4.0, 4.0, 2.5, 2.5, 4.5, 3.0, 4.5, ...</td>\n",
       "      <td>22</td>\n",
       "      <td>1</td>\n",
       "      <td>[3.0, 3.0, 3.0, 5.0, 1.0, 1.0, 5.0, 4.0, 3.0, ...</td>\n",
       "    </tr>\n",
       "    <tr>\n",
       "      <th>12</th>\n",
       "      <td>12</td>\n",
       "      <td>-0HhZbPBlB1YZx3BhAfaEA</td>\n",
       "      <td>[5.0, 4.0, 2.0, 5.0, 4.0, 4.0, 2.0, 3.0, 4.0, ...</td>\n",
       "      <td>[4.5, 4.0, 4.5, 4.0, 4.0, 4.0, 3.5, 3.0, 3.5, ...</td>\n",
       "      <td>97</td>\n",
       "      <td>0</td>\n",
       "      <td>[5.0, 4.0, 2.0, 5.0, 4.0, 4.0, 2.0, 3.0, 4.0, ...</td>\n",
       "    </tr>\n",
       "    <tr>\n",
       "      <th>13</th>\n",
       "      <td>13</td>\n",
       "      <td>-0IiMAZI2SsQ7VmyzJjokQ</td>\n",
       "      <td>[4.0, 3.0, 3.0, 3.0, 3.0, 4.0, 4.0, 3.0, 3.0, ...</td>\n",
       "      <td>[2.5, 3.5, 3.5, 4.0, 2.0, 4.5, 4.0, 3.5, 3.0, ...</td>\n",
       "      <td>67</td>\n",
       "      <td>0</td>\n",
       "      <td>[4.0, 3.0, 3.0, 3.0, 3.0, 4.0, 4.0, 3.0, 3.0, ...</td>\n",
       "    </tr>\n",
       "    <tr>\n",
       "      <th>14</th>\n",
       "      <td>14</td>\n",
       "      <td>-0S_XaK3Q_Mesal2Unta2w</td>\n",
       "      <td>[4.0, 2.0, 4.0, 3.0, 2.0, 1.0, 3.0, 4.0, 3.0, ...</td>\n",
       "      <td>[4.0, 2.5, 4.5, 4.0, 3.5, 4.0, 4.5, 4.0, 4.0, ...</td>\n",
       "      <td>26</td>\n",
       "      <td>0</td>\n",
       "      <td>[4.0, 2.0, 4.0, 3.0, 2.0, 1.0, 3.0, 4.0, 3.0, ...</td>\n",
       "    </tr>\n",
       "    <tr>\n",
       "      <th>15</th>\n",
       "      <td>15</td>\n",
       "      <td>-0aInSHjCWLfiNqfgmWnow</td>\n",
       "      <td>[4.0, 5.0, 5.0, 5.0, 4.0, 5.0, 4.0, 4.0, 4.0, ...</td>\n",
       "      <td>[4.5, 4.0, 4.0, 4.0, 4.5, 4.0, 4.0, 4.0, 3.5, ...</td>\n",
       "      <td>74</td>\n",
       "      <td>1</td>\n",
       "      <td>[4.0, 5.0, 5.0, 5.0, 4.0, 5.0, 4.0, 4.0, 4.0, ...</td>\n",
       "    </tr>\n",
       "    <tr>\n",
       "      <th>16</th>\n",
       "      <td>16</td>\n",
       "      <td>-0b84SUGVN0YkG5j2MCmBw</td>\n",
       "      <td>[5.0, 4.0, 3.0, 4.0, 4.0, 3.0, 4.0, 5.0, 5.0, ...</td>\n",
       "      <td>[4.0, 3.5, 3.0, 4.0, 4.0, 3.5, 4.0, 3.5, 3.0, ...</td>\n",
       "      <td>53</td>\n",
       "      <td>1</td>\n",
       "      <td>[5.0, 4.0, 3.0, 4.0, 4.0, 3.0, 4.0, 5.0, 5.0, ...</td>\n",
       "    </tr>\n",
       "    <tr>\n",
       "      <th>17</th>\n",
       "      <td>17</td>\n",
       "      <td>-0e6xyw_4zyg-2YtqSlS_g</td>\n",
       "      <td>[5.0, 2.0, 3.0, 4.0, 3.0, 4.0, 3.0, 4.0, 5.0, ...</td>\n",
       "      <td>[3.5, 2.5, 3.0, 4.5, 3.0, 3.5, 3.5, 3.0, 4.0, ...</td>\n",
       "      <td>21</td>\n",
       "      <td>0</td>\n",
       "      <td>[5.0, 2.0, 3.0, 4.0, 3.0, 4.0, 3.0, 4.0, 5.0, ...</td>\n",
       "    </tr>\n",
       "    <tr>\n",
       "      <th>18</th>\n",
       "      <td>18</td>\n",
       "      <td>-0kiduTUToVYFqN_NEqMSw</td>\n",
       "      <td>[5.0, 4.0, 5.0, 3.0, 4.0, 5.0, 1.0, 2.0, 3.0, ...</td>\n",
       "      <td>[3.5, 4.0, 4.5, 3.5, 5.0, 5.0, 3.0, 4.0, 2.5, ...</td>\n",
       "      <td>30</td>\n",
       "      <td>0</td>\n",
       "      <td>[5.0, 4.0, 5.0, 3.0, 4.0, 5.0, 1.0, 2.0, 3.0, ...</td>\n",
       "    </tr>\n",
       "    <tr>\n",
       "      <th>19</th>\n",
       "      <td>19</td>\n",
       "      <td>-0udWcFQEt2M8kM3xcIofw</td>\n",
       "      <td>[3.0, 4.0, 5.0, 4.0, 4.0, 3.0, 5.0, 5.0, 5.0, ...</td>\n",
       "      <td>[4.5, 4.0, 5.0, 4.5, 4.0, 4.0, 5.0, 4.0, 3.5, ...</td>\n",
       "      <td>89</td>\n",
       "      <td>0</td>\n",
       "      <td>[3.0, 4.0, 5.0, 4.0, 4.0, 3.0, 5.0, 5.0, 5.0, ...</td>\n",
       "    </tr>\n",
       "    <tr>\n",
       "      <th>20</th>\n",
       "      <td>20</td>\n",
       "      <td>-0xvtvwuPBMnFxj71obLaA</td>\n",
       "      <td>[5.0, 5.0, 5.0, 2.0, 2.0, 1.0, 5.0, 5.0, 1.0, ...</td>\n",
       "      <td>[3.5, 4.0, 4.0, 2.5, 3.5, 3.5, 3.0, 4.5, 2.0, ...</td>\n",
       "      <td>30</td>\n",
       "      <td>0</td>\n",
       "      <td>[5.0, 5.0, 5.0, 2.0, 2.0, 1.0, 5.0, 5.0, 1.0, ...</td>\n",
       "    </tr>\n",
       "    <tr>\n",
       "      <th>21</th>\n",
       "      <td>21</td>\n",
       "      <td>-1QntIRTVBABpiojwhEoyA</td>\n",
       "      <td>[1.0, 3.0, 5.0, 5.0, 5.0, 5.0, 4.0, 5.0, 5.0, ...</td>\n",
       "      <td>[3.5, 2.0, 4.0, 3.5, 3.0, 4.0, 3.5, 4.5, 4.0, ...</td>\n",
       "      <td>26</td>\n",
       "      <td>1</td>\n",
       "      <td>[1.0, 3.0, 5.0, 5.0, 5.0, 5.0, 4.0, 5.0, 5.0, ...</td>\n",
       "    </tr>\n",
       "    <tr>\n",
       "      <th>22</th>\n",
       "      <td>22</td>\n",
       "      <td>-21ooEUDqBkCF0hr94Pvgg</td>\n",
       "      <td>[4.0, 2.0, 1.0, 4.0, 5.0, 4.0, 5.0, 2.0, 4.0, ...</td>\n",
       "      <td>[3.5, 3.5, 4.0, 4.0, 4.5, 3.0, 4.5, 2.5, 4.5, ...</td>\n",
       "      <td>30</td>\n",
       "      <td>0</td>\n",
       "      <td>[4.0, 2.0, 1.0, 4.0, 5.0, 4.0, 5.0, 2.0, 4.0, ...</td>\n",
       "    </tr>\n",
       "    <tr>\n",
       "      <th>23</th>\n",
       "      <td>23</td>\n",
       "      <td>-24B_nkBG6Et1_QJecnN2A</td>\n",
       "      <td>[4.0, 3.0, 5.0, 4.0, 5.0, 4.0, 4.0, 5.0, 4.0, ...</td>\n",
       "      <td>[4.0, 3.0, 4.0, 4.5, 4.5, 3.5, 3.5, 4.5, 4.5, ...</td>\n",
       "      <td>24</td>\n",
       "      <td>1</td>\n",
       "      <td>[4.0, 3.0, 5.0, 4.0, 5.0, 4.0, 4.0, 5.0, 4.0, ...</td>\n",
       "    </tr>\n",
       "    <tr>\n",
       "      <th>24</th>\n",
       "      <td>24</td>\n",
       "      <td>-24Yo5J2MvjL685lPpQWjw</td>\n",
       "      <td>[5.0, 4.0, 4.0, 5.0, 5.0, 4.0, 4.0, 5.0, 5.0, ...</td>\n",
       "      <td>[4.5, 4.0, 4.0, 4.0, 4.0, 4.0, 4.0, 4.0, 4.5, ...</td>\n",
       "      <td>42</td>\n",
       "      <td>1</td>\n",
       "      <td>[5.0, 4.0, 4.0, 5.0, 5.0, 4.0, 4.0, 5.0, 5.0, ...</td>\n",
       "    </tr>\n",
       "    <tr>\n",
       "      <th>25</th>\n",
       "      <td>25</td>\n",
       "      <td>-267Yx8RmdP6io2-qI4UcQ</td>\n",
       "      <td>[4.0, 5.0, 5.0, 4.0, 3.0, 2.0, 5.0, 5.0, 4.0, ...</td>\n",
       "      <td>[4.0, 4.0, 3.0, 3.5, 3.5, 1.5, 4.5, 4.5, 3.0, ...</td>\n",
       "      <td>160</td>\n",
       "      <td>1</td>\n",
       "      <td>[4.0, 5.0, 5.0, 4.0, 3.0, 2.0, 5.0, 5.0, 4.0, ...</td>\n",
       "    </tr>\n",
       "    <tr>\n",
       "      <th>26</th>\n",
       "      <td>26</td>\n",
       "      <td>-28RqJIrddOj9hhMBnzaFA</td>\n",
       "      <td>[4.0, 2.0, 3.0, 4.0, 3.0, 3.0, 4.0, 3.0, 4.0, ...</td>\n",
       "      <td>[4.0, 4.5, 4.0, 3.0, 4.0, 4.0, 4.5, 3.5, 4.0, ...</td>\n",
       "      <td>56</td>\n",
       "      <td>1</td>\n",
       "      <td>[4.0, 2.0, 3.0, 4.0, 3.0, 3.0, 4.0, 3.0, 4.0, ...</td>\n",
       "    </tr>\n",
       "    <tr>\n",
       "      <th>27</th>\n",
       "      <td>27</td>\n",
       "      <td>-2OB54nQ6FsGLUM-R1KXnA</td>\n",
       "      <td>[4.0, 5.0, 5.0, 4.0, 4.0, 4.0, 4.0, 4.0, 5.0, ...</td>\n",
       "      <td>[3.5, 4.5, 4.5, 4.5, 3.5, 4.5, 3.0, 4.5, 5.0, ...</td>\n",
       "      <td>65</td>\n",
       "      <td>0</td>\n",
       "      <td>[4.0, 5.0, 5.0, 4.0, 4.0, 4.0, 4.0, 4.0, 5.0, ...</td>\n",
       "    </tr>\n",
       "    <tr>\n",
       "      <th>28</th>\n",
       "      <td>28</td>\n",
       "      <td>-2TWjxYpKd_2N2cdwSg-ZQ</td>\n",
       "      <td>[5.0, 5.0, 5.0, 4.0, 4.0, 4.0, 5.0, 5.0, 5.0, ...</td>\n",
       "      <td>[4.5, 3.5, 4.5, 4.0, 3.0, 3.0, 3.5, 5.0, 4.0, ...</td>\n",
       "      <td>21</td>\n",
       "      <td>1</td>\n",
       "      <td>[5.0, 5.0, 5.0, 4.0, 4.0, 4.0, 5.0, 5.0, 5.0, ...</td>\n",
       "    </tr>\n",
       "    <tr>\n",
       "      <th>29</th>\n",
       "      <td>29</td>\n",
       "      <td>-2UOdDlzg7XLuUuyOrldhA</td>\n",
       "      <td>[4.0, 5.0, 4.0, 3.0, 4.0, 3.0, 1.0, 3.0, 3.0, ...</td>\n",
       "      <td>[4.0, 4.0, 3.0, 4.0, 3.5, 3.5, 1.5, 3.5, 4.5, ...</td>\n",
       "      <td>42</td>\n",
       "      <td>0</td>\n",
       "      <td>[4.0, 5.0, 4.0, 3.0, 4.0, 3.0, 1.0, 3.0, 3.0, ...</td>\n",
       "    </tr>\n",
       "    <tr>\n",
       "      <th>...</th>\n",
       "      <td>...</td>\n",
       "      <td>...</td>\n",
       "      <td>...</td>\n",
       "      <td>...</td>\n",
       "      <td>...</td>\n",
       "      <td>...</td>\n",
       "      <td>...</td>\n",
       "    </tr>\n",
       "    <tr>\n",
       "      <th>26321</th>\n",
       "      <td>26321</td>\n",
       "      <td>zvcVvZbfhV_cTI6ZfzHcLA</td>\n",
       "      <td>[1.0, 3.0, 5.0, 4.0, 1.0, 5.0, 2.0, 2.0, 5.0, ...</td>\n",
       "      <td>[4.0, 4.0, 4.0, 3.5, 4.0, 3.5, 4.5, 4.5, 4.0, ...</td>\n",
       "      <td>27</td>\n",
       "      <td>0</td>\n",
       "      <td>[1.0, 3.0, 5.0, 4.0, 1.0, 5.0, 2.0, 2.0, 5.0, ...</td>\n",
       "    </tr>\n",
       "    <tr>\n",
       "      <th>26322</th>\n",
       "      <td>26322</td>\n",
       "      <td>zvoDcHLURhJpHDIItLlJxQ</td>\n",
       "      <td>[3.0, 2.0, 2.0, 3.0, 5.0, 4.0, 5.0, 4.0, 4.0, ...</td>\n",
       "      <td>[4.0, 3.5, 4.5, 4.0, 4.0, 3.5, 4.0, 4.0, 4.0, ...</td>\n",
       "      <td>59</td>\n",
       "      <td>0</td>\n",
       "      <td>[3.0, 2.0, 2.0, 3.0, 5.0, 4.0, 5.0, 4.0, 4.0, ...</td>\n",
       "    </tr>\n",
       "    <tr>\n",
       "      <th>26323</th>\n",
       "      <td>26323</td>\n",
       "      <td>zvoKQvcCsnJeC7ZRKrsWPA</td>\n",
       "      <td>[4.0, 4.0, 5.0, 5.0, 4.0, 5.0, 4.0, 4.0, 5.0, ...</td>\n",
       "      <td>[4.0, 3.5, 4.5, 4.5, 4.0, 4.5, 4.5, 2.5, 4.0, ...</td>\n",
       "      <td>72</td>\n",
       "      <td>1</td>\n",
       "      <td>[4.0, 4.0, 5.0, 5.0, 4.0, 5.0, 4.0, 4.0, 5.0, ...</td>\n",
       "    </tr>\n",
       "    <tr>\n",
       "      <th>26324</th>\n",
       "      <td>26324</td>\n",
       "      <td>zwDazUH1n6KLmWmJXJj7Rg</td>\n",
       "      <td>[1.0, 4.0, 2.0, 5.0, 3.0, 5.0, 1.0, 4.0, 4.0, ...</td>\n",
       "      <td>[1.0, 3.5, 4.0, 3.0, 2.5, 3.5, 3.0, 3.5, 3.5, ...</td>\n",
       "      <td>38</td>\n",
       "      <td>0</td>\n",
       "      <td>[1.0, 4.0, 2.0, 5.0, 3.0, 5.0, 1.0, 4.0, 4.0, ...</td>\n",
       "    </tr>\n",
       "    <tr>\n",
       "      <th>26325</th>\n",
       "      <td>26325</td>\n",
       "      <td>zwLq4aVDSH7HyMbVjKfkRg</td>\n",
       "      <td>[5.0, 4.0, 5.0, 5.0, 5.0, 3.0, 5.0, 5.0, 5.0, ...</td>\n",
       "      <td>[3.5, 1.5, 4.0, 3.5, 4.0, 3.0, 4.0, 3.5, 4.5, ...</td>\n",
       "      <td>39</td>\n",
       "      <td>1</td>\n",
       "      <td>[5.0, 4.0, 5.0, 5.0, 5.0, 3.0, 5.0, 5.0, 5.0, ...</td>\n",
       "    </tr>\n",
       "    <tr>\n",
       "      <th>26326</th>\n",
       "      <td>26326</td>\n",
       "      <td>zwhty_ZmxbHAHoDfMjNbag</td>\n",
       "      <td>[4.0, 3.0, 5.0, 5.0, 5.0, 4.0, 5.0, 4.0, 5.0, ...</td>\n",
       "      <td>[4.5, 4.0, 4.0, 5.0, 4.0, 4.5, 4.5, 3.5, 5.0, ...</td>\n",
       "      <td>319</td>\n",
       "      <td>0</td>\n",
       "      <td>[4.0, 3.0, 5.0, 5.0, 5.0, 4.0, 5.0, 4.0, 5.0, ...</td>\n",
       "    </tr>\n",
       "    <tr>\n",
       "      <th>26327</th>\n",
       "      <td>26327</td>\n",
       "      <td>zwjLmO6HKvspAtjqL4RL_w</td>\n",
       "      <td>[5.0, 5.0, 5.0, 4.0, 4.0, 5.0, 5.0, 4.0, 4.0, ...</td>\n",
       "      <td>[4.0, 5.0, 3.5, 3.0, 3.5, 4.0, 4.5, 4.5, 3.0, ...</td>\n",
       "      <td>59</td>\n",
       "      <td>1</td>\n",
       "      <td>[5.0, 5.0, 5.0, 4.0, 4.0, 5.0, 5.0, 4.0, 4.0, ...</td>\n",
       "    </tr>\n",
       "    <tr>\n",
       "      <th>26328</th>\n",
       "      <td>26328</td>\n",
       "      <td>zwmThlRiY1LHfJ_7zNfGqg</td>\n",
       "      <td>[4.0, 4.0, 4.0, 3.0, 3.0, 5.0, 4.0, 2.0, 2.0, ...</td>\n",
       "      <td>[3.5, 4.0, 3.5, 3.0, 2.5, 4.0, 3.5, 3.5, 3.0, ...</td>\n",
       "      <td>46</td>\n",
       "      <td>0</td>\n",
       "      <td>[4.0, 4.0, 4.0, 3.0, 3.0, 5.0, 4.0, 2.0, 2.0, ...</td>\n",
       "    </tr>\n",
       "    <tr>\n",
       "      <th>26329</th>\n",
       "      <td>26329</td>\n",
       "      <td>zwmw_cNa5DzJotaFOHTvQg</td>\n",
       "      <td>[4.0, 3.0, 4.0, 3.0, 4.0, 4.0, 2.0, 4.0, 2.0, ...</td>\n",
       "      <td>[3.5, 4.0, 4.5, 4.0, 5.0, 4.0, 4.0, 4.0, 4.5, ...</td>\n",
       "      <td>50</td>\n",
       "      <td>1</td>\n",
       "      <td>[4.0, 3.0, 4.0, 3.0, 4.0, 4.0, 2.0, 4.0, 2.0, ...</td>\n",
       "    </tr>\n",
       "    <tr>\n",
       "      <th>26330</th>\n",
       "      <td>26330</td>\n",
       "      <td>zwo4S612wfakZodLQ8aMIQ</td>\n",
       "      <td>[3.0, 4.0, 3.0, 1.0, 2.0, 2.0, 1.0, 1.0, 1.0, ...</td>\n",
       "      <td>[3.5, 3.5, 4.0, 2.5, 3.5, 4.0, 2.5, 3.0, 1.5, ...</td>\n",
       "      <td>80</td>\n",
       "      <td>1</td>\n",
       "      <td>[3.0, 4.0, 3.0, 1.0, 2.0, 2.0, 1.0, 1.0, 1.0, ...</td>\n",
       "    </tr>\n",
       "    <tr>\n",
       "      <th>26331</th>\n",
       "      <td>26331</td>\n",
       "      <td>zwpP3Lt8USKS91Ds52G8UA</td>\n",
       "      <td>[5.0, 4.0, 5.0, 5.0, 4.0, 3.0, 3.0, 4.0, 4.0, ...</td>\n",
       "      <td>[5.0, 3.5, 4.0, 4.5, 3.5, 3.0, 3.5, 4.5, 3.5, ...</td>\n",
       "      <td>123</td>\n",
       "      <td>0</td>\n",
       "      <td>[5.0, 4.0, 5.0, 5.0, 4.0, 3.0, 3.0, 4.0, 4.0, ...</td>\n",
       "    </tr>\n",
       "    <tr>\n",
       "      <th>26332</th>\n",
       "      <td>26332</td>\n",
       "      <td>zwzB0nCc-dzNMR_qewcogw</td>\n",
       "      <td>[5.0, 1.0, 2.0, 5.0, 5.0, 4.0, 2.0, 5.0, 4.0, ...</td>\n",
       "      <td>[4.0, 2.0, 2.0, 4.0, 4.5, 4.0, 3.5, 5.0, 3.5, ...</td>\n",
       "      <td>39</td>\n",
       "      <td>1</td>\n",
       "      <td>[5.0, 1.0, 2.0, 5.0, 5.0, 4.0, 2.0, 5.0, 4.0, ...</td>\n",
       "    </tr>\n",
       "    <tr>\n",
       "      <th>26333</th>\n",
       "      <td>26333</td>\n",
       "      <td>zx3y74_pvIRuQSVIrgzCew</td>\n",
       "      <td>[3.0, 2.0, 3.0, 5.0, 5.0, 3.0, 2.0, 2.0, 3.0, ...</td>\n",
       "      <td>[3.5, 3.5, 4.5, 4.0, 4.0, 4.0, 4.0, 3.5, 4.0, ...</td>\n",
       "      <td>81</td>\n",
       "      <td>1</td>\n",
       "      <td>[3.0, 2.0, 3.0, 5.0, 5.0, 3.0, 2.0, 2.0, 3.0, ...</td>\n",
       "    </tr>\n",
       "    <tr>\n",
       "      <th>26334</th>\n",
       "      <td>26334</td>\n",
       "      <td>zx5rdBK9NFZrAglIXF1LiQ</td>\n",
       "      <td>[3.0, 4.0, 4.0, 5.0, 4.0, 4.0, 4.0, 4.0, 4.0, ...</td>\n",
       "      <td>[3.5, 3.5, 3.0, 5.0, 4.0, 4.0, 3.5, 3.0, 4.5, ...</td>\n",
       "      <td>127</td>\n",
       "      <td>1</td>\n",
       "      <td>[3.0, 4.0, 4.0, 5.0, 4.0, 4.0, 4.0, 4.0, 4.0, ...</td>\n",
       "    </tr>\n",
       "    <tr>\n",
       "      <th>26335</th>\n",
       "      <td>26335</td>\n",
       "      <td>zx6gq8IslnAwCyCUztXn1A</td>\n",
       "      <td>[5.0, 5.0, 5.0, 4.0, 4.0, 4.0, 5.0, 5.0, 5.0, ...</td>\n",
       "      <td>[4.5, 4.0, 4.0, 3.0, 3.5, 3.5, 5.0, 5.0, 4.5, ...</td>\n",
       "      <td>86</td>\n",
       "      <td>0</td>\n",
       "      <td>[5.0, 5.0, 5.0, 4.0, 4.0, 4.0, 5.0, 5.0, 5.0, ...</td>\n",
       "    </tr>\n",
       "    <tr>\n",
       "      <th>26336</th>\n",
       "      <td>26336</td>\n",
       "      <td>zxL5c9syMuxOPtfnk0tXtQ</td>\n",
       "      <td>[5.0, 1.0, 4.0, 5.0, 3.0, 4.0, 4.0, 1.0, 5.0, ...</td>\n",
       "      <td>[3.0, 3.0, 4.0, 2.5, 3.5, 3.5, 3.0, 3.0, 4.5, ...</td>\n",
       "      <td>33</td>\n",
       "      <td>0</td>\n",
       "      <td>[5.0, 1.0, 4.0, 5.0, 3.0, 4.0, 4.0, 1.0, 5.0, ...</td>\n",
       "    </tr>\n",
       "    <tr>\n",
       "      <th>26337</th>\n",
       "      <td>26337</td>\n",
       "      <td>zxsGLpHvzbVqNDm4svFQ5g</td>\n",
       "      <td>[2.0, 3.0, 4.0, 4.0, 4.0, 3.0, 3.0, 2.0, 3.0, ...</td>\n",
       "      <td>[2.5, 3.5, 3.5, 4.0, 4.5, 3.5, 3.0, 3.0, 3.0, ...</td>\n",
       "      <td>43</td>\n",
       "      <td>1</td>\n",
       "      <td>[2.0, 3.0, 4.0, 4.0, 4.0, 3.0, 3.0, 2.0, 3.0, ...</td>\n",
       "    </tr>\n",
       "    <tr>\n",
       "      <th>26338</th>\n",
       "      <td>26338</td>\n",
       "      <td>zy2ZwrYjSAGv6AMF039iMw</td>\n",
       "      <td>[1.0, 4.0, 5.0, 4.0, 4.0, 4.0, 3.0, 4.0, 3.0, ...</td>\n",
       "      <td>[2.0, 4.0, 4.0, 4.5, 3.5, 4.5, 3.5, 4.0, 4.0, ...</td>\n",
       "      <td>39</td>\n",
       "      <td>0</td>\n",
       "      <td>[1.0, 4.0, 5.0, 4.0, 4.0, 4.0, 3.0, 4.0, 3.0, ...</td>\n",
       "    </tr>\n",
       "    <tr>\n",
       "      <th>26339</th>\n",
       "      <td>26339</td>\n",
       "      <td>zyFN0KU7Y9MfTZIROrsKhA</td>\n",
       "      <td>[3.0, 3.0, 4.0, 5.0, 4.0, 4.0, 4.0, 5.0, 4.0, ...</td>\n",
       "      <td>[3.5, 4.0, 3.5, 4.0, 3.0, 4.0, 3.5, 4.5, 4.0, ...</td>\n",
       "      <td>28</td>\n",
       "      <td>1</td>\n",
       "      <td>[3.0, 3.0, 4.0, 5.0, 4.0, 4.0, 4.0, 5.0, 4.0, ...</td>\n",
       "    </tr>\n",
       "    <tr>\n",
       "      <th>26340</th>\n",
       "      <td>26340</td>\n",
       "      <td>zyICJ6S9l9EKsVnoI-_irQ</td>\n",
       "      <td>[5.0, 4.0, 5.0, 2.0, 5.0, 5.0, 5.0, 4.0, 5.0, ...</td>\n",
       "      <td>[4.0, 4.5, 4.5, 2.5, 4.5, 4.5, 4.0, 3.5, 4.0, ...</td>\n",
       "      <td>23</td>\n",
       "      <td>0</td>\n",
       "      <td>[5.0, 4.0, 5.0, 2.0, 5.0, 5.0, 5.0, 4.0, 5.0, ...</td>\n",
       "    </tr>\n",
       "    <tr>\n",
       "      <th>26341</th>\n",
       "      <td>26341</td>\n",
       "      <td>zyLIp7DRFqeIE1Grrh3Zng</td>\n",
       "      <td>[5.0, 2.0, 4.0, 4.0, 2.0, 4.0, 2.0, 3.0, 3.0, ...</td>\n",
       "      <td>[3.5, 3.0, 4.0, 3.5, 2.5, 3.5, 3.0, 2.5, 3.0, ...</td>\n",
       "      <td>25</td>\n",
       "      <td>0</td>\n",
       "      <td>[5.0, 2.0, 4.0, 4.0, 2.0, 4.0, 2.0, 3.0, 3.0, ...</td>\n",
       "    </tr>\n",
       "    <tr>\n",
       "      <th>26342</th>\n",
       "      <td>26342</td>\n",
       "      <td>zyMB50UtmEuQf-1VUKxZxQ</td>\n",
       "      <td>[2.0, 2.0, 2.0, 3.0, 1.0, 4.0, 4.0, 4.0, 5.0, ...</td>\n",
       "      <td>[4.0, 3.0, 4.5, 3.5, 3.0, 4.0, 4.0, 4.5, 4.5, ...</td>\n",
       "      <td>22</td>\n",
       "      <td>1</td>\n",
       "      <td>[2.0, 2.0, 2.0, 3.0, 1.0, 4.0, 4.0, 4.0, 5.0, ...</td>\n",
       "    </tr>\n",
       "    <tr>\n",
       "      <th>26343</th>\n",
       "      <td>26343</td>\n",
       "      <td>zyNDt8ZVMxL27jUzUhhYHw</td>\n",
       "      <td>[2.0, 4.0, 5.0, 4.0, 5.0, 5.0, 4.0, 4.0, 4.0, ...</td>\n",
       "      <td>[2.5, 3.5, 4.5, 3.0, 3.0, 3.5, 3.0, 4.0, 4.5, ...</td>\n",
       "      <td>28</td>\n",
       "      <td>1</td>\n",
       "      <td>[2.0, 4.0, 5.0, 4.0, 5.0, 5.0, 4.0, 4.0, 4.0, ...</td>\n",
       "    </tr>\n",
       "    <tr>\n",
       "      <th>26344</th>\n",
       "      <td>26344</td>\n",
       "      <td>zyYWUdaodH0h1jCZAvFRPg</td>\n",
       "      <td>[5.0, 5.0, 4.0, 4.0, 5.0, 5.0, 5.0, 4.0, 4.0, ...</td>\n",
       "      <td>[4.0, 4.0, 4.0, 3.0, 3.5, 4.0, 4.0, 3.0, 3.5, ...</td>\n",
       "      <td>31</td>\n",
       "      <td>1</td>\n",
       "      <td>[5.0, 5.0, 4.0, 4.0, 5.0, 5.0, 5.0, 4.0, 4.0, ...</td>\n",
       "    </tr>\n",
       "    <tr>\n",
       "      <th>26345</th>\n",
       "      <td>26345</td>\n",
       "      <td>zynfOy36AZ0WsoGUYAjQaA</td>\n",
       "      <td>[5.0, 4.0, 4.0, 1.0, 3.0, 3.0, 5.0, 4.0, 5.0, ...</td>\n",
       "      <td>[4.5, 4.0, 3.0, 4.0, 3.5, 2.5, 5.0, 4.0, 4.5, ...</td>\n",
       "      <td>25</td>\n",
       "      <td>0</td>\n",
       "      <td>[5.0, 4.0, 4.0, 1.0, 3.0, 3.0, 5.0, 4.0, 5.0, ...</td>\n",
       "    </tr>\n",
       "    <tr>\n",
       "      <th>26346</th>\n",
       "      <td>26346</td>\n",
       "      <td>zzF17hwmlFTuOa1Yagi-eg</td>\n",
       "      <td>[5.0, 5.0, 3.0, 5.0, 4.0, 4.0, 4.0, 4.0, 3.0, ...</td>\n",
       "      <td>[4.0, 4.0, 4.0, 4.0, 4.0, 4.0, 5.0, 4.0, 4.0, ...</td>\n",
       "      <td>38</td>\n",
       "      <td>0</td>\n",
       "      <td>[5.0, 5.0, 3.0, 5.0, 4.0, 4.0, 4.0, 4.0, 3.0, ...</td>\n",
       "    </tr>\n",
       "    <tr>\n",
       "      <th>26347</th>\n",
       "      <td>26347</td>\n",
       "      <td>zzFZXZ-jiW_AhHR_w25aeA</td>\n",
       "      <td>[4.0, 5.0, 5.0, 5.0, 3.0, 4.0, 4.0, 4.0, 5.0, ...</td>\n",
       "      <td>[4.5, 3.5, 4.5, 4.5, 4.0, 4.0, 3.5, 4.0, 3.5, ...</td>\n",
       "      <td>25</td>\n",
       "      <td>0</td>\n",
       "      <td>[4.0, 5.0, 5.0, 5.0, 3.0, 4.0, 4.0, 4.0, 5.0, ...</td>\n",
       "    </tr>\n",
       "    <tr>\n",
       "      <th>26348</th>\n",
       "      <td>26348</td>\n",
       "      <td>zzPvEodjvLPe-5NvV0U_cg</td>\n",
       "      <td>[3.0, 2.0, 2.0, 5.0, 3.0, 4.0, 1.0, 4.0, 4.0, ...</td>\n",
       "      <td>[4.0, 3.5, 3.5, 5.0, 3.5, 4.0, 4.0, 4.0, 4.5, ...</td>\n",
       "      <td>190</td>\n",
       "      <td>1</td>\n",
       "      <td>[3.0, 2.0, 2.0, 5.0, 3.0, 4.0, 1.0, 4.0, 4.0, ...</td>\n",
       "    </tr>\n",
       "    <tr>\n",
       "      <th>26349</th>\n",
       "      <td>26349</td>\n",
       "      <td>zzaq5Fn1U2Feut3dGxidNg</td>\n",
       "      <td>[4.0, 4.0, 3.0, 5.0, 3.0, 4.0, 1.0, 3.0, 4.0, ...</td>\n",
       "      <td>[4.0, 4.0, 3.0, 4.5, 2.5, 3.5, 2.5, 3.5, 3.5, ...</td>\n",
       "      <td>25</td>\n",
       "      <td>0</td>\n",
       "      <td>[4.0, 4.0, 3.0, 5.0, 3.0, 4.0, 1.0, 3.0, 4.0, ...</td>\n",
       "    </tr>\n",
       "    <tr>\n",
       "      <th>26350</th>\n",
       "      <td>26350</td>\n",
       "      <td>zzgb9L3NBT9V8BGw_DcVYw</td>\n",
       "      <td>[5.0, 4.0, 5.0, 4.0, 4.0, 5.0, 5.0, 3.0, 4.0, ...</td>\n",
       "      <td>[5.0, 3.0, 4.5, 4.0, 4.5, 3.5, 4.0, 3.5, 4.0, ...</td>\n",
       "      <td>29</td>\n",
       "      <td>0</td>\n",
       "      <td>[5.0, 4.0, 5.0, 4.0, 4.0, 5.0, 5.0, 3.0, 4.0, ...</td>\n",
       "    </tr>\n",
       "  </tbody>\n",
       "</table>\n",
       "<p>26351 rows × 7 columns</p>\n",
       "</div>"
      ],
      "text/plain": [
       "       Unnamed: 0                 user_id  \\\n",
       "0               0  ---1lKK3aKOuomHnwAkAow   \n",
       "1               1  --2vR0DIsmQ6WfcSzKWigw   \n",
       "2               2  --4rAAfZnEIAKJE80aIiYg   \n",
       "3               3  --CIuK7sUpaNzalLAlHJKA   \n",
       "4               4  --Qh8yKWAvIP4V4K8ZPfHA   \n",
       "5               5  --RlSfc-QmcHFGHyX6aVjA   \n",
       "6               6  --YhjyV-ce1nFLYxP49C5A   \n",
       "7               7  --ZNfWKj1VyVElRx6-g1fg   \n",
       "8               8  --_WPY2SoNRJGVtUr2ZcwQ   \n",
       "9               9  --ty7Z9fEt08E3dS3_qoSA   \n",
       "10             10  -0-hVEpwWEcJLJoGq3rE3g   \n",
       "11             11  -00kdEIhCt-ODaV4BS-EAg   \n",
       "12             12  -0HhZbPBlB1YZx3BhAfaEA   \n",
       "13             13  -0IiMAZI2SsQ7VmyzJjokQ   \n",
       "14             14  -0S_XaK3Q_Mesal2Unta2w   \n",
       "15             15  -0aInSHjCWLfiNqfgmWnow   \n",
       "16             16  -0b84SUGVN0YkG5j2MCmBw   \n",
       "17             17  -0e6xyw_4zyg-2YtqSlS_g   \n",
       "18             18  -0kiduTUToVYFqN_NEqMSw   \n",
       "19             19  -0udWcFQEt2M8kM3xcIofw   \n",
       "20             20  -0xvtvwuPBMnFxj71obLaA   \n",
       "21             21  -1QntIRTVBABpiojwhEoyA   \n",
       "22             22  -21ooEUDqBkCF0hr94Pvgg   \n",
       "23             23  -24B_nkBG6Et1_QJecnN2A   \n",
       "24             24  -24Yo5J2MvjL685lPpQWjw   \n",
       "25             25  -267Yx8RmdP6io2-qI4UcQ   \n",
       "26             26  -28RqJIrddOj9hhMBnzaFA   \n",
       "27             27  -2OB54nQ6FsGLUM-R1KXnA   \n",
       "28             28  -2TWjxYpKd_2N2cdwSg-ZQ   \n",
       "29             29  -2UOdDlzg7XLuUuyOrldhA   \n",
       "...           ...                     ...   \n",
       "26321       26321  zvcVvZbfhV_cTI6ZfzHcLA   \n",
       "26322       26322  zvoDcHLURhJpHDIItLlJxQ   \n",
       "26323       26323  zvoKQvcCsnJeC7ZRKrsWPA   \n",
       "26324       26324  zwDazUH1n6KLmWmJXJj7Rg   \n",
       "26325       26325  zwLq4aVDSH7HyMbVjKfkRg   \n",
       "26326       26326  zwhty_ZmxbHAHoDfMjNbag   \n",
       "26327       26327  zwjLmO6HKvspAtjqL4RL_w   \n",
       "26328       26328  zwmThlRiY1LHfJ_7zNfGqg   \n",
       "26329       26329  zwmw_cNa5DzJotaFOHTvQg   \n",
       "26330       26330  zwo4S612wfakZodLQ8aMIQ   \n",
       "26331       26331  zwpP3Lt8USKS91Ds52G8UA   \n",
       "26332       26332  zwzB0nCc-dzNMR_qewcogw   \n",
       "26333       26333  zx3y74_pvIRuQSVIrgzCew   \n",
       "26334       26334  zx5rdBK9NFZrAglIXF1LiQ   \n",
       "26335       26335  zx6gq8IslnAwCyCUztXn1A   \n",
       "26336       26336  zxL5c9syMuxOPtfnk0tXtQ   \n",
       "26337       26337  zxsGLpHvzbVqNDm4svFQ5g   \n",
       "26338       26338  zy2ZwrYjSAGv6AMF039iMw   \n",
       "26339       26339  zyFN0KU7Y9MfTZIROrsKhA   \n",
       "26340       26340  zyICJ6S9l9EKsVnoI-_irQ   \n",
       "26341       26341  zyLIp7DRFqeIE1Grrh3Zng   \n",
       "26342       26342  zyMB50UtmEuQf-1VUKxZxQ   \n",
       "26343       26343  zyNDt8ZVMxL27jUzUhhYHw   \n",
       "26344       26344  zyYWUdaodH0h1jCZAvFRPg   \n",
       "26345       26345  zynfOy36AZ0WsoGUYAjQaA   \n",
       "26346       26346  zzF17hwmlFTuOa1Yagi-eg   \n",
       "26347       26347  zzFZXZ-jiW_AhHR_w25aeA   \n",
       "26348       26348  zzPvEodjvLPe-5NvV0U_cg   \n",
       "26349       26349  zzaq5Fn1U2Feut3dGxidNg   \n",
       "26350       26350  zzgb9L3NBT9V8BGw_DcVYw   \n",
       "\n",
       "                                                   stars  \\\n",
       "0      [4.0, 4.0, 5.0, 1.0, 1.0, 5.0, 5.0, 1.0, 3.0, ...   \n",
       "1      [3.0, 5.0, 4.0, 3.0, 4.0, 5.0, 4.0, 5.0, 3.0, ...   \n",
       "2      [1.0, 3.0, 4.0, 1.0, 1.0, 4.0, 5.0, 1.0, 1.0, ...   \n",
       "3      [4.0, 1.0, 4.0, 4.0, 5.0, 4.0, 4.0, 3.0, 4.0, ...   \n",
       "4      [4.0, 1.0, 2.0, 4.0, 5.0, 1.0, 4.0, 3.0, 2.0, ...   \n",
       "5      [3.0, 4.0, 4.0, 5.0, 2.0, 4.0, 5.0, 4.0, 3.0, ...   \n",
       "6      [5.0, 3.0, 3.0, 4.0, 1.0, 5.0, 3.0, 3.0, 1.0, ...   \n",
       "7      [5.0, 4.0, 5.0, 5.0, 3.0, 5.0, 5.0, 5.0, 5.0, ...   \n",
       "8      [2.0, 5.0, 1.0, 5.0, 5.0, 2.0, 2.0, 4.0, 5.0, ...   \n",
       "9      [5.0, 4.0, 4.0, 4.0, 3.0, 4.0, 5.0, 4.0, 4.0, ...   \n",
       "10     [4.0, 4.0, 3.0, 5.0, 3.0, 2.0, 3.0, 4.0, 4.0, ...   \n",
       "11     [3.0, 3.0, 3.0, 5.0, 1.0, 1.0, 5.0, 4.0, 3.0, ...   \n",
       "12     [5.0, 4.0, 2.0, 5.0, 4.0, 4.0, 2.0, 3.0, 4.0, ...   \n",
       "13     [4.0, 3.0, 3.0, 3.0, 3.0, 4.0, 4.0, 3.0, 3.0, ...   \n",
       "14     [4.0, 2.0, 4.0, 3.0, 2.0, 1.0, 3.0, 4.0, 3.0, ...   \n",
       "15     [4.0, 5.0, 5.0, 5.0, 4.0, 5.0, 4.0, 4.0, 4.0, ...   \n",
       "16     [5.0, 4.0, 3.0, 4.0, 4.0, 3.0, 4.0, 5.0, 5.0, ...   \n",
       "17     [5.0, 2.0, 3.0, 4.0, 3.0, 4.0, 3.0, 4.0, 5.0, ...   \n",
       "18     [5.0, 4.0, 5.0, 3.0, 4.0, 5.0, 1.0, 2.0, 3.0, ...   \n",
       "19     [3.0, 4.0, 5.0, 4.0, 4.0, 3.0, 5.0, 5.0, 5.0, ...   \n",
       "20     [5.0, 5.0, 5.0, 2.0, 2.0, 1.0, 5.0, 5.0, 1.0, ...   \n",
       "21     [1.0, 3.0, 5.0, 5.0, 5.0, 5.0, 4.0, 5.0, 5.0, ...   \n",
       "22     [4.0, 2.0, 1.0, 4.0, 5.0, 4.0, 5.0, 2.0, 4.0, ...   \n",
       "23     [4.0, 3.0, 5.0, 4.0, 5.0, 4.0, 4.0, 5.0, 4.0, ...   \n",
       "24     [5.0, 4.0, 4.0, 5.0, 5.0, 4.0, 4.0, 5.0, 5.0, ...   \n",
       "25     [4.0, 5.0, 5.0, 4.0, 3.0, 2.0, 5.0, 5.0, 4.0, ...   \n",
       "26     [4.0, 2.0, 3.0, 4.0, 3.0, 3.0, 4.0, 3.0, 4.0, ...   \n",
       "27     [4.0, 5.0, 5.0, 4.0, 4.0, 4.0, 4.0, 4.0, 5.0, ...   \n",
       "28     [5.0, 5.0, 5.0, 4.0, 4.0, 4.0, 5.0, 5.0, 5.0, ...   \n",
       "29     [4.0, 5.0, 4.0, 3.0, 4.0, 3.0, 1.0, 3.0, 3.0, ...   \n",
       "...                                                  ...   \n",
       "26321  [1.0, 3.0, 5.0, 4.0, 1.0, 5.0, 2.0, 2.0, 5.0, ...   \n",
       "26322  [3.0, 2.0, 2.0, 3.0, 5.0, 4.0, 5.0, 4.0, 4.0, ...   \n",
       "26323  [4.0, 4.0, 5.0, 5.0, 4.0, 5.0, 4.0, 4.0, 5.0, ...   \n",
       "26324  [1.0, 4.0, 2.0, 5.0, 3.0, 5.0, 1.0, 4.0, 4.0, ...   \n",
       "26325  [5.0, 4.0, 5.0, 5.0, 5.0, 3.0, 5.0, 5.0, 5.0, ...   \n",
       "26326  [4.0, 3.0, 5.0, 5.0, 5.0, 4.0, 5.0, 4.0, 5.0, ...   \n",
       "26327  [5.0, 5.0, 5.0, 4.0, 4.0, 5.0, 5.0, 4.0, 4.0, ...   \n",
       "26328  [4.0, 4.0, 4.0, 3.0, 3.0, 5.0, 4.0, 2.0, 2.0, ...   \n",
       "26329  [4.0, 3.0, 4.0, 3.0, 4.0, 4.0, 2.0, 4.0, 2.0, ...   \n",
       "26330  [3.0, 4.0, 3.0, 1.0, 2.0, 2.0, 1.0, 1.0, 1.0, ...   \n",
       "26331  [5.0, 4.0, 5.0, 5.0, 4.0, 3.0, 3.0, 4.0, 4.0, ...   \n",
       "26332  [5.0, 1.0, 2.0, 5.0, 5.0, 4.0, 2.0, 5.0, 4.0, ...   \n",
       "26333  [3.0, 2.0, 3.0, 5.0, 5.0, 3.0, 2.0, 2.0, 3.0, ...   \n",
       "26334  [3.0, 4.0, 4.0, 5.0, 4.0, 4.0, 4.0, 4.0, 4.0, ...   \n",
       "26335  [5.0, 5.0, 5.0, 4.0, 4.0, 4.0, 5.0, 5.0, 5.0, ...   \n",
       "26336  [5.0, 1.0, 4.0, 5.0, 3.0, 4.0, 4.0, 1.0, 5.0, ...   \n",
       "26337  [2.0, 3.0, 4.0, 4.0, 4.0, 3.0, 3.0, 2.0, 3.0, ...   \n",
       "26338  [1.0, 4.0, 5.0, 4.0, 4.0, 4.0, 3.0, 4.0, 3.0, ...   \n",
       "26339  [3.0, 3.0, 4.0, 5.0, 4.0, 4.0, 4.0, 5.0, 4.0, ...   \n",
       "26340  [5.0, 4.0, 5.0, 2.0, 5.0, 5.0, 5.0, 4.0, 5.0, ...   \n",
       "26341  [5.0, 2.0, 4.0, 4.0, 2.0, 4.0, 2.0, 3.0, 3.0, ...   \n",
       "26342  [2.0, 2.0, 2.0, 3.0, 1.0, 4.0, 4.0, 4.0, 5.0, ...   \n",
       "26343  [2.0, 4.0, 5.0, 4.0, 5.0, 5.0, 4.0, 4.0, 4.0, ...   \n",
       "26344  [5.0, 5.0, 4.0, 4.0, 5.0, 5.0, 5.0, 4.0, 4.0, ...   \n",
       "26345  [5.0, 4.0, 4.0, 1.0, 3.0, 3.0, 5.0, 4.0, 5.0, ...   \n",
       "26346  [5.0, 5.0, 3.0, 5.0, 4.0, 4.0, 4.0, 4.0, 3.0, ...   \n",
       "26347  [4.0, 5.0, 5.0, 5.0, 3.0, 4.0, 4.0, 4.0, 5.0, ...   \n",
       "26348  [3.0, 2.0, 2.0, 5.0, 3.0, 4.0, 1.0, 4.0, 4.0, ...   \n",
       "26349  [4.0, 4.0, 3.0, 5.0, 3.0, 4.0, 1.0, 3.0, 4.0, ...   \n",
       "26350  [5.0, 4.0, 5.0, 4.0, 4.0, 5.0, 5.0, 3.0, 4.0, ...   \n",
       "\n",
       "                                              cum_rating  review_count  \\\n",
       "0      [4.0, 4.0, 4.5, 3.5, 3.5, 4.5, 4.5, 2.5, 3.5, ...           100   \n",
       "1      [2.5, 3.5, 3.0, 4.0, 4.0, 4.5, 3.0, 4.5, 4.0, ...            28   \n",
       "2      [3.0, 3.5, 4.0, 3.5, 2.5, 4.0, 4.5, 3.5, 3.5, ...            22   \n",
       "3      [4.0, 3.0, 3.5, 3.0, 3.0, 3.0, 3.0, 4.0, 3.0, ...            27   \n",
       "4      [4.0, 3.0, 3.0, 3.5, 4.5, 1.0, 4.0, 3.5, 4.0, ...           342   \n",
       "5      [4.0, 4.5, 4.0, 4.5, 3.5, 4.0, 4.5, 4.0, 3.0, ...            77   \n",
       "6      [3.0, 4.0, 3.5, 2.5, 4.0, 4.0, 3.5, 4.0, 2.0, ...            26   \n",
       "7      [3.5, 4.0, 3.5, 4.0, 3.0, 4.5, 3.5, 4.5, 4.0, ...            25   \n",
       "8      [3.5, 4.0, 4.0, 4.0, 4.0, 3.0, 3.5, 2.5, 3.5, ...            32   \n",
       "9      [3.5, 4.0, 4.0, 3.0, 3.5, 3.5, 4.0, 4.0, 3.5, ...            28   \n",
       "10     [4.5, 4.0, 4.0, 5.0, 3.5, 4.0, 3.5, 4.0, 4.0, ...            44   \n",
       "11     [3.0, 3.5, 4.0, 4.0, 2.5, 2.5, 4.5, 3.0, 4.5, ...            22   \n",
       "12     [4.5, 4.0, 4.5, 4.0, 4.0, 4.0, 3.5, 3.0, 3.5, ...            97   \n",
       "13     [2.5, 3.5, 3.5, 4.0, 2.0, 4.5, 4.0, 3.5, 3.0, ...            67   \n",
       "14     [4.0, 2.5, 4.5, 4.0, 3.5, 4.0, 4.5, 4.0, 4.0, ...            26   \n",
       "15     [4.5, 4.0, 4.0, 4.0, 4.5, 4.0, 4.0, 4.0, 3.5, ...            74   \n",
       "16     [4.0, 3.5, 3.0, 4.0, 4.0, 3.5, 4.0, 3.5, 3.0, ...            53   \n",
       "17     [3.5, 2.5, 3.0, 4.5, 3.0, 3.5, 3.5, 3.0, 4.0, ...            21   \n",
       "18     [3.5, 4.0, 4.5, 3.5, 5.0, 5.0, 3.0, 4.0, 2.5, ...            30   \n",
       "19     [4.5, 4.0, 5.0, 4.5, 4.0, 4.0, 5.0, 4.0, 3.5, ...            89   \n",
       "20     [3.5, 4.0, 4.0, 2.5, 3.5, 3.5, 3.0, 4.5, 2.0, ...            30   \n",
       "21     [3.5, 2.0, 4.0, 3.5, 3.0, 4.0, 3.5, 4.5, 4.0, ...            26   \n",
       "22     [3.5, 3.5, 4.0, 4.0, 4.5, 3.0, 4.5, 2.5, 4.5, ...            30   \n",
       "23     [4.0, 3.0, 4.0, 4.5, 4.5, 3.5, 3.5, 4.5, 4.5, ...            24   \n",
       "24     [4.5, 4.0, 4.0, 4.0, 4.0, 4.0, 4.0, 4.0, 4.5, ...            42   \n",
       "25     [4.0, 4.0, 3.0, 3.5, 3.5, 1.5, 4.5, 4.5, 3.0, ...           160   \n",
       "26     [4.0, 4.5, 4.0, 3.0, 4.0, 4.0, 4.5, 3.5, 4.0, ...            56   \n",
       "27     [3.5, 4.5, 4.5, 4.5, 3.5, 4.5, 3.0, 4.5, 5.0, ...            65   \n",
       "28     [4.5, 3.5, 4.5, 4.0, 3.0, 3.0, 3.5, 5.0, 4.0, ...            21   \n",
       "29     [4.0, 4.0, 3.0, 4.0, 3.5, 3.5, 1.5, 3.5, 4.5, ...            42   \n",
       "...                                                  ...           ...   \n",
       "26321  [4.0, 4.0, 4.0, 3.5, 4.0, 3.5, 4.5, 4.5, 4.0, ...            27   \n",
       "26322  [4.0, 3.5, 4.5, 4.0, 4.0, 3.5, 4.0, 4.0, 4.0, ...            59   \n",
       "26323  [4.0, 3.5, 4.5, 4.5, 4.0, 4.5, 4.5, 2.5, 4.0, ...            72   \n",
       "26324  [1.0, 3.5, 4.0, 3.0, 2.5, 3.5, 3.0, 3.5, 3.5, ...            38   \n",
       "26325  [3.5, 1.5, 4.0, 3.5, 4.0, 3.0, 4.0, 3.5, 4.5, ...            39   \n",
       "26326  [4.5, 4.0, 4.0, 5.0, 4.0, 4.5, 4.5, 3.5, 5.0, ...           319   \n",
       "26327  [4.0, 5.0, 3.5, 3.0, 3.5, 4.0, 4.5, 4.5, 3.0, ...            59   \n",
       "26328  [3.5, 4.0, 3.5, 3.0, 2.5, 4.0, 3.5, 3.5, 3.0, ...            46   \n",
       "26329  [3.5, 4.0, 4.5, 4.0, 5.0, 4.0, 4.0, 4.0, 4.5, ...            50   \n",
       "26330  [3.5, 3.5, 4.0, 2.5, 3.5, 4.0, 2.5, 3.0, 1.5, ...            80   \n",
       "26331  [5.0, 3.5, 4.0, 4.5, 3.5, 3.0, 3.5, 4.5, 3.5, ...           123   \n",
       "26332  [4.0, 2.0, 2.0, 4.0, 4.5, 4.0, 3.5, 5.0, 3.5, ...            39   \n",
       "26333  [3.5, 3.5, 4.5, 4.0, 4.0, 4.0, 4.0, 3.5, 4.0, ...            81   \n",
       "26334  [3.5, 3.5, 3.0, 5.0, 4.0, 4.0, 3.5, 3.0, 4.5, ...           127   \n",
       "26335  [4.5, 4.0, 4.0, 3.0, 3.5, 3.5, 5.0, 5.0, 4.5, ...            86   \n",
       "26336  [3.0, 3.0, 4.0, 2.5, 3.5, 3.5, 3.0, 3.0, 4.5, ...            33   \n",
       "26337  [2.5, 3.5, 3.5, 4.0, 4.5, 3.5, 3.0, 3.0, 3.0, ...            43   \n",
       "26338  [2.0, 4.0, 4.0, 4.5, 3.5, 4.5, 3.5, 4.0, 4.0, ...            39   \n",
       "26339  [3.5, 4.0, 3.5, 4.0, 3.0, 4.0, 3.5, 4.5, 4.0, ...            28   \n",
       "26340  [4.0, 4.5, 4.5, 2.5, 4.5, 4.5, 4.0, 3.5, 4.0, ...            23   \n",
       "26341  [3.5, 3.0, 4.0, 3.5, 2.5, 3.5, 3.0, 2.5, 3.0, ...            25   \n",
       "26342  [4.0, 3.0, 4.5, 3.5, 3.0, 4.0, 4.0, 4.5, 4.5, ...            22   \n",
       "26343  [2.5, 3.5, 4.5, 3.0, 3.0, 3.5, 3.0, 4.0, 4.5, ...            28   \n",
       "26344  [4.0, 4.0, 4.0, 3.0, 3.5, 4.0, 4.0, 3.0, 3.5, ...            31   \n",
       "26345  [4.5, 4.0, 3.0, 4.0, 3.5, 2.5, 5.0, 4.0, 4.5, ...            25   \n",
       "26346  [4.0, 4.0, 4.0, 4.0, 4.0, 4.0, 5.0, 4.0, 4.0, ...            38   \n",
       "26347  [4.5, 3.5, 4.5, 4.5, 4.0, 4.0, 3.5, 4.0, 3.5, ...            25   \n",
       "26348  [4.0, 3.5, 3.5, 5.0, 3.5, 4.0, 4.0, 4.0, 4.5, ...           190   \n",
       "26349  [4.0, 4.0, 3.0, 4.5, 2.5, 3.5, 2.5, 3.5, 3.5, ...            25   \n",
       "26350  [5.0, 3.0, 4.5, 4.0, 4.5, 3.5, 4.0, 3.5, 4.0, ...            29   \n",
       "\n",
       "       user_class                                            ratings  \n",
       "0               0  [4.0, 4.0, 5.0, 1.0, 1.0, 5.0, 5.0, 1.0, 3.0, ...  \n",
       "1               1  [3.0, 5.0, 4.0, 3.0, 4.0, 5.0, 4.0, 5.0, 3.0, ...  \n",
       "2               1  [1.0, 3.0, 4.0, 1.0, 1.0, 4.0, 5.0, 1.0, 1.0, ...  \n",
       "3               0  [4.0, 1.0, 4.0, 4.0, 5.0, 4.0, 4.0, 3.0, 4.0, ...  \n",
       "4               1  [4.0, 1.0, 2.0, 4.0, 5.0, 1.0, 4.0, 3.0, 2.0, ...  \n",
       "5               1  [3.0, 4.0, 4.0, 5.0, 2.0, 4.0, 5.0, 4.0, 3.0, ...  \n",
       "6               0  [5.0, 3.0, 3.0, 4.0, 1.0, 5.0, 3.0, 3.0, 1.0, ...  \n",
       "7               0  [5.0, 4.0, 5.0, 5.0, 3.0, 5.0, 5.0, 5.0, 5.0, ...  \n",
       "8               1  [2.0, 5.0, 1.0, 5.0, 5.0, 2.0, 2.0, 4.0, 5.0, ...  \n",
       "9               1  [5.0, 4.0, 4.0, 4.0, 3.0, 4.0, 5.0, 4.0, 4.0, ...  \n",
       "10              0  [4.0, 4.0, 3.0, 5.0, 3.0, 2.0, 3.0, 4.0, 4.0, ...  \n",
       "11              1  [3.0, 3.0, 3.0, 5.0, 1.0, 1.0, 5.0, 4.0, 3.0, ...  \n",
       "12              0  [5.0, 4.0, 2.0, 5.0, 4.0, 4.0, 2.0, 3.0, 4.0, ...  \n",
       "13              0  [4.0, 3.0, 3.0, 3.0, 3.0, 4.0, 4.0, 3.0, 3.0, ...  \n",
       "14              0  [4.0, 2.0, 4.0, 3.0, 2.0, 1.0, 3.0, 4.0, 3.0, ...  \n",
       "15              1  [4.0, 5.0, 5.0, 5.0, 4.0, 5.0, 4.0, 4.0, 4.0, ...  \n",
       "16              1  [5.0, 4.0, 3.0, 4.0, 4.0, 3.0, 4.0, 5.0, 5.0, ...  \n",
       "17              0  [5.0, 2.0, 3.0, 4.0, 3.0, 4.0, 3.0, 4.0, 5.0, ...  \n",
       "18              0  [5.0, 4.0, 5.0, 3.0, 4.0, 5.0, 1.0, 2.0, 3.0, ...  \n",
       "19              0  [3.0, 4.0, 5.0, 4.0, 4.0, 3.0, 5.0, 5.0, 5.0, ...  \n",
       "20              0  [5.0, 5.0, 5.0, 2.0, 2.0, 1.0, 5.0, 5.0, 1.0, ...  \n",
       "21              1  [1.0, 3.0, 5.0, 5.0, 5.0, 5.0, 4.0, 5.0, 5.0, ...  \n",
       "22              0  [4.0, 2.0, 1.0, 4.0, 5.0, 4.0, 5.0, 2.0, 4.0, ...  \n",
       "23              1  [4.0, 3.0, 5.0, 4.0, 5.0, 4.0, 4.0, 5.0, 4.0, ...  \n",
       "24              1  [5.0, 4.0, 4.0, 5.0, 5.0, 4.0, 4.0, 5.0, 5.0, ...  \n",
       "25              1  [4.0, 5.0, 5.0, 4.0, 3.0, 2.0, 5.0, 5.0, 4.0, ...  \n",
       "26              1  [4.0, 2.0, 3.0, 4.0, 3.0, 3.0, 4.0, 3.0, 4.0, ...  \n",
       "27              0  [4.0, 5.0, 5.0, 4.0, 4.0, 4.0, 4.0, 4.0, 5.0, ...  \n",
       "28              1  [5.0, 5.0, 5.0, 4.0, 4.0, 4.0, 5.0, 5.0, 5.0, ...  \n",
       "29              0  [4.0, 5.0, 4.0, 3.0, 4.0, 3.0, 1.0, 3.0, 3.0, ...  \n",
       "...           ...                                                ...  \n",
       "26321           0  [1.0, 3.0, 5.0, 4.0, 1.0, 5.0, 2.0, 2.0, 5.0, ...  \n",
       "26322           0  [3.0, 2.0, 2.0, 3.0, 5.0, 4.0, 5.0, 4.0, 4.0, ...  \n",
       "26323           1  [4.0, 4.0, 5.0, 5.0, 4.0, 5.0, 4.0, 4.0, 5.0, ...  \n",
       "26324           0  [1.0, 4.0, 2.0, 5.0, 3.0, 5.0, 1.0, 4.0, 4.0, ...  \n",
       "26325           1  [5.0, 4.0, 5.0, 5.0, 5.0, 3.0, 5.0, 5.0, 5.0, ...  \n",
       "26326           0  [4.0, 3.0, 5.0, 5.0, 5.0, 4.0, 5.0, 4.0, 5.0, ...  \n",
       "26327           1  [5.0, 5.0, 5.0, 4.0, 4.0, 5.0, 5.0, 4.0, 4.0, ...  \n",
       "26328           0  [4.0, 4.0, 4.0, 3.0, 3.0, 5.0, 4.0, 2.0, 2.0, ...  \n",
       "26329           1  [4.0, 3.0, 4.0, 3.0, 4.0, 4.0, 2.0, 4.0, 2.0, ...  \n",
       "26330           1  [3.0, 4.0, 3.0, 1.0, 2.0, 2.0, 1.0, 1.0, 1.0, ...  \n",
       "26331           0  [5.0, 4.0, 5.0, 5.0, 4.0, 3.0, 3.0, 4.0, 4.0, ...  \n",
       "26332           1  [5.0, 1.0, 2.0, 5.0, 5.0, 4.0, 2.0, 5.0, 4.0, ...  \n",
       "26333           1  [3.0, 2.0, 3.0, 5.0, 5.0, 3.0, 2.0, 2.0, 3.0, ...  \n",
       "26334           1  [3.0, 4.0, 4.0, 5.0, 4.0, 4.0, 4.0, 4.0, 4.0, ...  \n",
       "26335           0  [5.0, 5.0, 5.0, 4.0, 4.0, 4.0, 5.0, 5.0, 5.0, ...  \n",
       "26336           0  [5.0, 1.0, 4.0, 5.0, 3.0, 4.0, 4.0, 1.0, 5.0, ...  \n",
       "26337           1  [2.0, 3.0, 4.0, 4.0, 4.0, 3.0, 3.0, 2.0, 3.0, ...  \n",
       "26338           0  [1.0, 4.0, 5.0, 4.0, 4.0, 4.0, 3.0, 4.0, 3.0, ...  \n",
       "26339           1  [3.0, 3.0, 4.0, 5.0, 4.0, 4.0, 4.0, 5.0, 4.0, ...  \n",
       "26340           0  [5.0, 4.0, 5.0, 2.0, 5.0, 5.0, 5.0, 4.0, 5.0, ...  \n",
       "26341           0  [5.0, 2.0, 4.0, 4.0, 2.0, 4.0, 2.0, 3.0, 3.0, ...  \n",
       "26342           1  [2.0, 2.0, 2.0, 3.0, 1.0, 4.0, 4.0, 4.0, 5.0, ...  \n",
       "26343           1  [2.0, 4.0, 5.0, 4.0, 5.0, 5.0, 4.0, 4.0, 4.0, ...  \n",
       "26344           1  [5.0, 5.0, 4.0, 4.0, 5.0, 5.0, 5.0, 4.0, 4.0, ...  \n",
       "26345           0  [5.0, 4.0, 4.0, 1.0, 3.0, 3.0, 5.0, 4.0, 5.0, ...  \n",
       "26346           0  [5.0, 5.0, 3.0, 5.0, 4.0, 4.0, 4.0, 4.0, 3.0, ...  \n",
       "26347           0  [4.0, 5.0, 5.0, 5.0, 3.0, 4.0, 4.0, 4.0, 5.0, ...  \n",
       "26348           1  [3.0, 2.0, 2.0, 5.0, 3.0, 4.0, 1.0, 4.0, 4.0, ...  \n",
       "26349           0  [4.0, 4.0, 3.0, 5.0, 3.0, 4.0, 1.0, 3.0, 4.0, ...  \n",
       "26350           0  [5.0, 4.0, 5.0, 4.0, 4.0, 5.0, 5.0, 3.0, 4.0, ...  \n",
       "\n",
       "[26351 rows x 7 columns]"
      ]
     },
     "execution_count": 15,
     "metadata": {},
     "output_type": "execute_result"
    }
   ],
   "source": [
    "df_user_class"
   ]
  },
  {
   "cell_type": "markdown",
   "metadata": {},
   "source": [
    "# match confidently taged users from all users"
   ]
  },
  {
   "cell_type": "markdown",
   "metadata": {},
   "source": [
    "### df_tag_user1 contrarian users have:\n",
    "1. more than 65% contrarian reviews \n",
    "2. overall more than 3 reviews"
   ]
  },
  {
   "cell_type": "code",
   "execution_count": 10,
   "metadata": {
    "collapsed": false
   },
   "outputs": [],
   "source": [
    "x=df_user_class.copy()\n",
    "#x=df_user_class\n",
    "del x['review_count'] #follow the review_count from the original dataset\n",
    "del x['stars']\n",
    "del x['cum_rating']\n",
    "del x['Unnamed: 0']\n",
    "df_tag_user1=pd.merge(left=x, right=df_user,how='left',on='user_id')\n",
    "del df_tag_user1['type']\n",
    "del df_tag_user1['Unnamed: 0']\n",
    "del df_tag_user1['name']\n",
    "del df_tag_user1['friends']\n",
    "del df_tag_user1['elite']\n",
    "#del df_tag_user1['average_stars']"
   ]
  },
  {
   "cell_type": "code",
   "execution_count": 56,
   "metadata": {
    "collapsed": false
   },
   "outputs": [
    {
     "data": {
      "text/plain": [
       "0    15928\n",
       "1    10423\n",
       "Name: user_class, dtype: int64"
      ]
     },
     "execution_count": 56,
     "metadata": {},
     "output_type": "execute_result"
    }
   ],
   "source": [
    "x.user_class.value_counts()"
   ]
  },
  {
   "cell_type": "code",
   "execution_count": 168,
   "metadata": {
    "collapsed": false
   },
   "outputs": [
    {
     "data": {
      "text/plain": [
       "2007"
      ]
     },
     "execution_count": 168,
     "metadata": {},
     "output_type": "execute_result"
    }
   ],
   "source": [
    "int(df_tag_user1.yelping_since[0].year)"
   ]
  },
  {
   "cell_type": "code",
   "execution_count": 11,
   "metadata": {
    "collapsed": true
   },
   "outputs": [],
   "source": [
    "df_tag_user1['yelping_age']=df_tag_user1.yelping_age.apply(lambda x: (x / np.timedelta64(1, 'D')).astype(int))"
   ]
  },
  {
   "cell_type": "code",
   "execution_count": 12,
   "metadata": {
    "collapsed": false
   },
   "outputs": [],
   "source": [
    "df_tag_user1['yelping_since']=df_tag_user1.yelping_since.apply(lambda x: int(x.year))"
   ]
  },
  {
   "cell_type": "code",
   "execution_count": 123,
   "metadata": {
    "collapsed": false
   },
   "outputs": [],
   "source": [
    "df_tag_user1['yelping_since']=df_tag_user1.yelping_since.apply(lambda x: str(x))\n",
    "df_tag_user1['yelping_age']=df_tag_user1.yelping_age.apply(lambda x: str(x))"
   ]
  },
  {
   "cell_type": "markdown",
   "metadata": {},
   "source": [
    "# Try machine learning models to do classification"
   ]
  },
  {
   "cell_type": "markdown",
   "metadata": {},
   "source": [
    "## 1. convert label encoding"
   ]
  },
  {
   "cell_type": "code",
   "execution_count": 12,
   "metadata": {
    "collapsed": false
   },
   "outputs": [],
   "source": [
    "data=df_tag_user1.ix[:, df_tag_user1.columns != 'user_class'].copy()\n",
    "del data['user_id']\n",
    "#one_hot_tag_user_1=pd.get_dummies(X,columns=X.columns)"
   ]
  },
  {
   "cell_type": "code",
   "execution_count": 13,
   "metadata": {
    "collapsed": false
   },
   "outputs": [],
   "source": [
    "from sklearn.preprocessing import LabelEncoder\n",
    "le=LabelEncoder()\n",
    "for col in data.columns.values:\n",
    "    if col=='ratings':\n",
    "        continue\n",
    "   # Encoding only categorical variables\n",
    "\n",
    "    if data[col].dtypes=='O':\n",
    "   # Using whole data to form an exhaustive list of levels\n",
    "        le.fit(data[col].values)\n",
    "        data[col]=le.transform(data[col])"
   ]
  },
  {
   "cell_type": "markdown",
   "metadata": {},
   "source": [
    "Train, validation data separation"
   ]
  },
  {
   "cell_type": "code",
   "execution_count": 14,
   "metadata": {
    "collapsed": true
   },
   "outputs": [],
   "source": [
    "Y=df_tag_user1.user_class.copy()\n",
    "train_data=data[0:20000]\n",
    "train_label=Y[0:20000]\n",
    "validation_data=data[20001:]\n",
    "validation_label=Y[20001:]"
   ]
  },
  {
   "cell_type": "markdown",
   "metadata": {},
   "source": [
    "## 2. Apply Machine Learning"
   ]
  },
  {
   "cell_type": "code",
   "execution_count": 236,
   "metadata": {
    "collapsed": true
   },
   "outputs": [],
   "source": [
    "def plot_confusion_matrix(cm, classes,\n",
    "                          normalize=False,\n",
    "                          title='Confusion matrix',\n",
    "                          cmap=plt.cm.Blues):\n",
    "    \"\"\"\n",
    "    This function prints and plots the confusion matrix.\n",
    "    Normalization can be applied by setting `normalize=True`.\n",
    "    \"\"\"\n",
    "    plt.imshow(cm, interpolation='nearest', cmap=cmap)\n",
    "    plt.title(title)\n",
    "    plt.colorbar()\n",
    "    tick_marks = np.arange(len(classes))\n",
    "    plt.xticks(tick_marks, classes, rotation=45)\n",
    "    plt.yticks(tick_marks, classes)\n",
    "\n",
    "    if normalize:\n",
    "        cm = np.around(cm.astype('float') / cm.sum(axis=1)[:, np.newaxis],decimals=3)\n",
    "        print(\"Normalized confusion matrix\")\n",
    "    else:\n",
    "        print('Confusion matrix, without normalization')\n",
    "\n",
    "    print(cm)\n",
    "\n",
    "    thresh = cm.max() / 2.\n",
    "    for i, j in itertools.product(range(cm.shape[0]), range(cm.shape[1])):\n",
    "        plt.text(j, i, cm[i, j],\n",
    "                 horizontalalignment=\"center\",\n",
    "                 color=\"white\" if cm[i, j] > thresh else \"black\")\n",
    "\n",
    "    plt.tight_layout()\n",
    "    plt.ylabel('True label')\n",
    "    plt.xlabel('Predicted label')"
   ]
  },
  {
   "cell_type": "code",
   "execution_count": 35,
   "metadata": {
    "collapsed": false
   },
   "outputs": [],
   "source": [
    "def feed_ratings(train_data,train_label,validation_data,validation_label,model,title):\n",
    "    precision_0=[]\n",
    "    precision_1=[]\n",
    "    precision_2=[]\n",
    "    for i in np.arange(0.1,1,0.1):\n",
    "        a=train_data.copy()\n",
    "        b=validation_data.copy()\n",
    "        a['ratings']=a.ratings.apply(lambda x: np.average(x[:int(np.ceil(i*len(x)))]))\n",
    "        b['ratings']=b.ratings.apply(lambda x: np.average(x[:int(np.ceil(i*len(x)))]))\n",
    "        model.fit(a,train_label)\n",
    "        precision, recall, fscore, support = score(validation_label, model.predict(b))\n",
    "        precision_0.append(precision[0])\n",
    "        precision_1.append(precision[1])\n",
    "    plt.plot(precision_0,label='label 0')\n",
    "    plt.plot(precision_1,label='label 1')\n",
    "    plt.legend(loc=\"lower right\")\n",
    "    plt.xlabel('portion of ratings')\n",
    "    plt.ylabel('precision')\n",
    "    plt.title(title)"
   ]
  },
  {
   "cell_type": "markdown",
   "metadata": {},
   "source": [
    "## Performances"
   ]
  },
  {
   "cell_type": "code",
   "execution_count": 37,
   "metadata": {
    "collapsed": false
   },
   "outputs": [],
   "source": [
    "from sklearn.metrics import classification_report,accuracy_score"
   ]
  },
  {
   "cell_type": "code",
   "execution_count": 25,
   "metadata": {
    "collapsed": false
   },
   "outputs": [
    {
     "data": {
      "text/plain": [
       "0    15928\n",
       "1    10423\n",
       "Name: user_class, dtype: int64"
      ]
     },
     "execution_count": 25,
     "metadata": {},
     "output_type": "execute_result"
    }
   ],
   "source": [
    "x.user_class.value_counts()"
   ]
  },
  {
   "cell_type": "code",
   "execution_count": 36,
   "metadata": {
    "collapsed": false
   },
   "outputs": [
    {
     "data": {
      "image/png": "[encoded data removed]",
      "text/plain": [
       "<matplotlib.figure.Figure at 0x11c7344a8>"
      ]
     },
     "metadata": {},
     "output_type": "display_data"
    }
   ],
   "source": [
    "feed_ratings(train_data,train_label,validation_data,validation_label,clf,'decision tree')"
   ]
  },
  {
   "cell_type": "code",
   "execution_count": 86,
   "metadata": {
    "collapsed": false
   },
   "outputs": [
    {
     "ename": "AttributeError",
     "evalue": "'DataFrame' object has no attribute 'ratings'",
     "output_type": "error",
     "traceback": [
      "\u001b[0;31m---------------------------------------------------------------------------\u001b[0m",
      "\u001b[0;31mAttributeError\u001b[0m                            Traceback (most recent call last)",
      "\u001b[0;32m<ipython-input-86-53c90506c87a>\u001b[0m in \u001b[0;36m<module>\u001b[0;34m()\u001b[0m\n\u001b[0;32m----> 1\u001b[0;31m \u001b[0mfeed_ratings\u001b[0m\u001b[0;34m(\u001b[0m\u001b[0mtrain_data\u001b[0m\u001b[0;34m,\u001b[0m\u001b[0mtrain_label\u001b[0m\u001b[0;34m,\u001b[0m\u001b[0mvalidation_data\u001b[0m\u001b[0;34m,\u001b[0m\u001b[0mvalidation_label\u001b[0m\u001b[0;34m,\u001b[0m\u001b[0mrf\u001b[0m\u001b[0;34m,\u001b[0m\u001b[0;34m'random forest'\u001b[0m\u001b[0;34m)\u001b[0m\u001b[0;34m\u001b[0m\u001b[0m\n\u001b[0m",
      "\u001b[0;32m<ipython-input-35-e2edad00864f>\u001b[0m in \u001b[0;36mfeed_ratings\u001b[0;34m(train_data, train_label, validation_data, validation_label, model, title)\u001b[0m\n\u001b[1;32m      6\u001b[0m         \u001b[0ma\u001b[0m\u001b[0;34m=\u001b[0m\u001b[0mtrain_data\u001b[0m\u001b[0;34m.\u001b[0m\u001b[0mcopy\u001b[0m\u001b[0;34m(\u001b[0m\u001b[0;34m)\u001b[0m\u001b[0;34m\u001b[0m\u001b[0m\n\u001b[1;32m      7\u001b[0m         \u001b[0mb\u001b[0m\u001b[0;34m=\u001b[0m\u001b[0mvalidation_data\u001b[0m\u001b[0;34m.\u001b[0m\u001b[0mcopy\u001b[0m\u001b[0;34m(\u001b[0m\u001b[0;34m)\u001b[0m\u001b[0;34m\u001b[0m\u001b[0m\n\u001b[0;32m----> 8\u001b[0;31m         \u001b[0ma\u001b[0m\u001b[0;34m[\u001b[0m\u001b[0;34m'ratings'\u001b[0m\u001b[0;34m]\u001b[0m\u001b[0;34m=\u001b[0m\u001b[0ma\u001b[0m\u001b[0;34m.\u001b[0m\u001b[0mratings\u001b[0m\u001b[0;34m.\u001b[0m\u001b[0mapply\u001b[0m\u001b[0;34m(\u001b[0m\u001b[0;32mlambda\u001b[0m \u001b[0mx\u001b[0m\u001b[0;34m:\u001b[0m \u001b[0mnp\u001b[0m\u001b[0;34m.\u001b[0m\u001b[0maverage\u001b[0m\u001b[0;34m(\u001b[0m\u001b[0mx\u001b[0m\u001b[0;34m[\u001b[0m\u001b[0;34m:\u001b[0m\u001b[0mint\u001b[0m\u001b[0;34m(\u001b[0m\u001b[0mnp\u001b[0m\u001b[0;34m.\u001b[0m\u001b[0mceil\u001b[0m\u001b[0;34m(\u001b[0m\u001b[0mi\u001b[0m\u001b[0;34m*\u001b[0m\u001b[0mlen\u001b[0m\u001b[0;34m(\u001b[0m\u001b[0mx\u001b[0m\u001b[0;34m)\u001b[0m\u001b[0;34m)\u001b[0m\u001b[0;34m)\u001b[0m\u001b[0;34m]\u001b[0m\u001b[0;34m)\u001b[0m\u001b[0;34m)\u001b[0m\u001b[0;34m\u001b[0m\u001b[0m\n\u001b[0m\u001b[1;32m      9\u001b[0m         \u001b[0mb\u001b[0m\u001b[0;34m[\u001b[0m\u001b[0;34m'ratings'\u001b[0m\u001b[0;34m]\u001b[0m\u001b[0;34m=\u001b[0m\u001b[0mb\u001b[0m\u001b[0;34m.\u001b[0m\u001b[0mratings\u001b[0m\u001b[0;34m.\u001b[0m\u001b[0mapply\u001b[0m\u001b[0;34m(\u001b[0m\u001b[0;32mlambda\u001b[0m \u001b[0mx\u001b[0m\u001b[0;34m:\u001b[0m \u001b[0mnp\u001b[0m\u001b[0;34m.\u001b[0m\u001b[0maverage\u001b[0m\u001b[0;34m(\u001b[0m\u001b[0mx\u001b[0m\u001b[0;34m[\u001b[0m\u001b[0;34m:\u001b[0m\u001b[0mint\u001b[0m\u001b[0;34m(\u001b[0m\u001b[0mnp\u001b[0m\u001b[0;34m.\u001b[0m\u001b[0mceil\u001b[0m\u001b[0;34m(\u001b[0m\u001b[0mi\u001b[0m\u001b[0;34m*\u001b[0m\u001b[0mlen\u001b[0m\u001b[0;34m(\u001b[0m\u001b[0mx\u001b[0m\u001b[0;34m)\u001b[0m\u001b[0;34m)\u001b[0m\u001b[0;34m)\u001b[0m\u001b[0;34m]\u001b[0m\u001b[0;34m)\u001b[0m\u001b[0;34m)\u001b[0m\u001b[0;34m\u001b[0m\u001b[0m\n\u001b[1;32m     10\u001b[0m         \u001b[0mmodel\u001b[0m\u001b[0;34m.\u001b[0m\u001b[0mfit\u001b[0m\u001b[0;34m(\u001b[0m\u001b[0ma\u001b[0m\u001b[0;34m,\u001b[0m\u001b[0mtrain_label\u001b[0m\u001b[0;34m)\u001b[0m\u001b[0;34m\u001b[0m\u001b[0m\n",
      "\u001b[0;32m/Users/stevezhang/anaconda/lib/python3.6/site-packages/pandas/core/generic.py\u001b[0m in \u001b[0;36m__getattr__\u001b[0;34m(self, name)\u001b[0m\n\u001b[1;32m   2742\u001b[0m             \u001b[0;32mif\u001b[0m \u001b[0mname\u001b[0m \u001b[0;32min\u001b[0m \u001b[0mself\u001b[0m\u001b[0;34m.\u001b[0m\u001b[0m_info_axis\u001b[0m\u001b[0;34m:\u001b[0m\u001b[0;34m\u001b[0m\u001b[0m\n\u001b[1;32m   2743\u001b[0m                 \u001b[0;32mreturn\u001b[0m \u001b[0mself\u001b[0m\u001b[0;34m[\u001b[0m\u001b[0mname\u001b[0m\u001b[0;34m]\u001b[0m\u001b[0;34m\u001b[0m\u001b[0m\n\u001b[0;32m-> 2744\u001b[0;31m             \u001b[0;32mreturn\u001b[0m \u001b[0mobject\u001b[0m\u001b[0;34m.\u001b[0m\u001b[0m__getattribute__\u001b[0m\u001b[0;34m(\u001b[0m\u001b[0mself\u001b[0m\u001b[0;34m,\u001b[0m \u001b[0mname\u001b[0m\u001b[0;34m)\u001b[0m\u001b[0;34m\u001b[0m\u001b[0m\n\u001b[0m\u001b[1;32m   2745\u001b[0m \u001b[0;34m\u001b[0m\u001b[0m\n\u001b[1;32m   2746\u001b[0m     \u001b[0;32mdef\u001b[0m \u001b[0m__setattr__\u001b[0m\u001b[0;34m(\u001b[0m\u001b[0mself\u001b[0m\u001b[0;34m,\u001b[0m \u001b[0mname\u001b[0m\u001b[0;34m,\u001b[0m \u001b[0mvalue\u001b[0m\u001b[0;34m)\u001b[0m\u001b[0;34m:\u001b[0m\u001b[0;34m\u001b[0m\u001b[0m\n",
      "\u001b[0;31mAttributeError\u001b[0m: 'DataFrame' object has no attribute 'ratings'"
     ]
    }
   ],
   "source": [
    "feed_ratings(train_data,train_label,validation_data,validation_label,rf,'random forest')"
   ]
  },
  {
   "cell_type": "code",
   "execution_count": 42,
   "metadata": {
    "collapsed": false,
    "scrolled": true
   },
   "outputs": [
    {
     "data": {
      "image/png": "[encoded data removed]",
      "text/plain": [
       "<matplotlib.figure.Figure at 0x1128849b0>"
      ]
     },
     "metadata": {},
     "output_type": "display_data"
    }
   ],
   "source": [
    "feed_ratings(train_data,train_label,validation_data,validation_label,adaboost,'adaboost')"
   ]
  },
  {
   "cell_type": "code",
   "execution_count": 72,
   "metadata": {
    "collapsed": false
   },
   "outputs": [
    {
     "name": "stdout",
     "output_type": "stream",
     "text": [
      "             precision    recall  f1-score   support\n",
      "\n",
      "          0       0.72      0.74      0.73      6860\n",
      "          1       0.58      0.57      0.58      4490\n",
      "\n",
      "avg / total       0.67      0.67      0.67     11350\n",
      "\n"
     ]
    }
   ],
   "source": [
    "print(classification_report(validation_label,clf.predict(validation_data)))"
   ]
  },
  {
   "cell_type": "code",
   "execution_count": 73,
   "metadata": {
    "collapsed": false
   },
   "outputs": [
    {
     "name": "stdout",
     "output_type": "stream",
     "text": [
      "             precision    recall  f1-score   support\n",
      "\n",
      "          0       0.72      0.86      0.79      6860\n",
      "          1       0.70      0.49      0.58      4490\n",
      "\n",
      "avg / total       0.71      0.72      0.70     11350\n",
      "\n"
     ]
    }
   ],
   "source": [
    "print(classification_report(validation_label,rf.predict(validation_data)))"
   ]
  },
  {
   "cell_type": "code",
   "execution_count": 75,
   "metadata": {
    "collapsed": false
   },
   "outputs": [
    {
     "name": "stdout",
     "output_type": "stream",
     "text": [
      "             precision    recall  f1-score   support\n",
      "\n",
      "          0       0.74      0.80      0.77      6860\n",
      "          1       0.65      0.57      0.61      4490\n",
      "\n",
      "avg / total       0.70      0.71      0.71     11350\n",
      "\n"
     ]
    }
   ],
   "source": [
    "print(classification_report(validation_label,adaboost.predict(validation_data)))"
   ]
  },
  {
   "cell_type": "code",
   "execution_count": 89,
   "metadata": {
    "collapsed": false
   },
   "outputs": [
    {
     "name": "stdout",
     "output_type": "stream",
     "text": [
      "             precision    recall  f1-score   support\n",
      "\n",
      "          0       0.75      0.85      0.80      6860\n",
      "          1       0.72      0.57      0.64      4490\n",
      "\n",
      "avg / total       0.74      0.74      0.74     11350\n",
      "\n"
     ]
    }
   ],
   "source": [
    "#Gradient Boosting\n",
    "print(classification_report(validation_label,g.predict(validation_data)))"
   ]
  },
  {
   "cell_type": "code",
   "execution_count": 74,
   "metadata": {
    "collapsed": false
   },
   "outputs": [
    {
     "data": {
      "text/plain": [
       "0.66933920704845817"
      ]
     },
     "execution_count": 74,
     "metadata": {},
     "output_type": "execute_result"
    }
   ],
   "source": [
    "accuracy_score(clf.predict(validation_data),validation_label)"
   ]
  },
  {
   "cell_type": "code",
   "execution_count": 76,
   "metadata": {
    "collapsed": false
   },
   "outputs": [
    {
     "data": {
      "text/plain": [
       "0.71621145374449335"
      ]
     },
     "execution_count": 76,
     "metadata": {},
     "output_type": "execute_result"
    }
   ],
   "source": [
    "accuracy_score(rf.predict(validation_data),validation_label)"
   ]
  },
  {
   "cell_type": "code",
   "execution_count": 77,
   "metadata": {
    "collapsed": false
   },
   "outputs": [
    {
     "data": {
      "text/plain": [
       "0.70898678414096916"
      ]
     },
     "execution_count": 77,
     "metadata": {},
     "output_type": "execute_result"
    }
   ],
   "source": [
    "accuracy_score(adaboost.predict(validation_data),validation_label)"
   ]
  },
  {
   "cell_type": "code",
   "execution_count": 87,
   "metadata": {
    "collapsed": false
   },
   "outputs": [
    {
     "data": {
      "text/plain": [
       "0.74334801762114533"
      ]
     },
     "execution_count": 87,
     "metadata": {},
     "output_type": "execute_result"
    }
   ],
   "source": [
    "#Gradient Boosting\n",
    "accuracy_score(g.predict(validation_data),validation_label)"
   ]
  },
  {
   "cell_type": "markdown",
   "metadata": {},
   "source": [
    "### 1. Decision Tree"
   ]
  },
  {
   "cell_type": "code",
   "execution_count": 200,
   "metadata": {
    "collapsed": true
   },
   "outputs": [],
   "source": [
    "from sklearn import tree\n",
    "import itertools"
   ]
  },
  {
   "cell_type": "code",
   "execution_count": 234,
   "metadata": {
    "collapsed": false
   },
   "outputs": [],
   "source": [
    "clf = tree.DecisionTreeClassifier()\n",
    "clf = clf.fit(train_data, train_label)\n",
    "precision, recall, fscore, support = score(validation_label, clf.predict(validation_data))\n",
    "\n",
    "print('precision: {}'.format(precision))\n",
    "print('recall: {}'.format(recall))\n",
    "print('fscore: {}'.format(fscore))\n",
    "print('support: {}'.format(support))"
   ]
  },
  {
   "cell_type": "markdown",
   "metadata": {},
   "source": [
    "Confusion Matrix"
   ]
  },
  {
   "cell_type": "code",
   "execution_count": 237,
   "metadata": {
    "collapsed": false
   },
   "outputs": [
    {
     "name": "stdout",
     "output_type": "stream",
     "text": [
      "Normalized confusion matrix\n",
      "[[ 0.714  0.286]\n",
      " [ 0.434  0.566]]\n"
     ]
    },
    {
     "data": {
      "image/png": "[encoded data removed]",
      "text/plain": [
       "<matplotlib.figure.Figure at 0x12b6caa20>"
      ]
     },
     "metadata": {},
     "output_type": "display_data"
    }
   ],
   "source": [
    "clf_matrix=confusion_matrix(clf.predict(validation_data),validation_label)\n",
    "plot_confusion_matrix(clf_matrix, classes=['0','1'],normalize=1,\n",
    "                      title='Decision Tree')"
   ]
  },
  {
   "cell_type": "markdown",
   "metadata": {},
   "source": [
    "Score"
   ]
  },
  {
   "cell_type": "markdown",
   "metadata": {},
   "source": [
    "### 2. Random Forest"
   ]
  },
  {
   "cell_type": "code",
   "execution_count": 19,
   "metadata": {
    "collapsed": true
   },
   "outputs": [],
   "source": [
    "from sklearn.ensemble import RandomForestClassifier"
   ]
  },
  {
   "cell_type": "code",
   "execution_count": 32,
   "metadata": {
    "collapsed": false
   },
   "outputs": [],
   "source": [
    "# Create a random forest classifier. By convention, clf means 'classifier'\n",
    "rf = RandomForestClassifier(n_jobs=2)\n",
    "\n",
    "# Train the classifier to take the training features and learn how they relate\n",
    "# to the training y (the species)\n",
    "rf.fit(train_data,train_label)\n",
    "precision, recall, fscore, support = score(validation_label, rf.predict(validation_data))\n",
    "\n",
    "print('precision: {}'.format(precision))\n",
    "print('recall: {}'.format(recall))\n",
    "print('fscore: {}'.format(fscore))\n",
    "print('support: {}'.format(support))"
   ]
  },
  {
   "cell_type": "code",
   "execution_count": 92,
   "metadata": {
    "collapsed": false
   },
   "outputs": [
    {
     "name": "stdout",
     "output_type": "stream",
     "text": [
      "Normalized confusion matrix\n",
      "[[ 0.722  0.278]\n",
      " [ 0.299  0.701]]\n"
     ]
    },
    {
     "data": {
      "image/png": "[encoded data removed]",
      "text/plain": [
       "<matplotlib.figure.Figure at 0x11f1def98>"
      ]
     },
     "metadata": {},
     "output_type": "display_data"
    }
   ],
   "source": [
    "rf_matrix=confusion_matrix(rf.predict(validation_data),validation_label)\n",
    "plot_confusion_matrix(rf_matrix, classes=['0','1'],normalize=1,\n",
    "                      title='Random Forest')"
   ]
  },
  {
   "cell_type": "markdown",
   "metadata": {},
   "source": [
    "### 3. ada booster"
   ]
  },
  {
   "cell_type": "code",
   "execution_count": 199,
   "metadata": {
    "collapsed": true
   },
   "outputs": [],
   "source": [
    "from sklearn.ensemble import AdaBoostClassifier"
   ]
  },
  {
   "cell_type": "code",
   "execution_count": 41,
   "metadata": {
    "collapsed": false
   },
   "outputs": [],
   "source": [
    "rng = np.random.RandomState(1)\n",
    "adaboost = AdaBoostClassifier(tree.DecisionTreeClassifier(max_depth=2),\n",
    "    n_estimators=600,\n",
    "    learning_rate=1)\n",
    "#adaboost.fit(train_data,train_label )\n",
    "\n"
   ]
  },
  {
   "cell_type": "code",
   "execution_count": 78,
   "metadata": {
    "collapsed": false
   },
   "outputs": [
    {
     "data": {
      "text/plain": [
       "array([ 0.16230884,  0.01281414,  0.01527937,  0.01979671,  0.03236569,\n",
       "        0.01508931,  0.01994646,  0.0318387 ,  0.02806147,  0.04741122,\n",
       "        0.02033836,  0.035871  ,  0.04276523,  0.03444918,  0.05396734,\n",
       "        0.1018467 ,  0.06626523,  0.0887802 ,  0.08723148,  0.06158916,\n",
       "        0.02198421])"
      ]
     },
     "execution_count": 78,
     "metadata": {},
     "output_type": "execute_result"
    }
   ],
   "source": [
    "adaboost.feature_importances_"
   ]
  },
  {
   "cell_type": "code",
   "execution_count": 93,
   "metadata": {
    "collapsed": false
   },
   "outputs": [
    {
     "name": "stdout",
     "output_type": "stream",
     "text": [
      "Normalized confusion matrix\n",
      "[[ 0.741  0.259]\n",
      " [ 0.35   0.65 ]]\n"
     ]
    },
    {
     "data": {
      "image/png": "[encoded data removed]",
      "text/plain": [
       "<matplotlib.figure.Figure at 0x11bfb14a8>"
      ]
     },
     "metadata": {},
     "output_type": "display_data"
    }
   ],
   "source": [
    "ad_matrix=confusion_matrix(adaboost.predict(validation_data),validation_label)\n",
    "plot_confusion_matrix(ad_matrix, classes=['0','1'],normalize=1,\n",
    "                      title='Adaboost')"
   ]
  },
  {
   "cell_type": "code",
   "execution_count": 198,
   "metadata": {
    "collapsed": false
   },
   "outputs": [],
   "source": [
    "from sklearn.model_selection import StratifiedShuffleSplit\n",
    "from sklearn.metrics import accuracy_score, log_loss,auc\n",
    "from sklearn.neighbors import KNeighborsClassifier\n",
    "from sklearn.svm import SVC\n",
    "from sklearn.tree import DecisionTreeClassifier\n",
    "from sklearn.ensemble import RandomForestClassifier, AdaBoostClassifier, GradientBoostingClassifier\n",
    "from sklearn.naive_bayes import GaussianNB\n",
    "from sklearn.discriminant_analysis import LinearDiscriminantAnalysis, QuadraticDiscriminantAnalysis\n",
    "from sklearn.linear_model import LogisticRegression\n",
    "from sklearn.metrics import roc_curve"
   ]
  },
  {
   "cell_type": "code",
   "execution_count": 67,
   "metadata": {
    "collapsed": false
   },
   "outputs": [],
   "source": [
    "del train_data['ratings']\n",
    "del validation_data['ratings']"
   ]
  },
  {
   "cell_type": "code",
   "execution_count": 221,
   "metadata": {
    "collapsed": false
   },
   "outputs": [
    {
     "data": {
      "image/png": "[encoded data removed]",
      "text/plain": [
       "<matplotlib.figure.Figure at 0x193bb6978>"
      ]
     },
     "metadata": {},
     "output_type": "display_data"
    }
   ],
   "source": [
    "t = tree.DecisionTreeClassifier().fit(train_data,train_label)\n",
    "d = LogisticRegression().fit(train_data,train_label)\n",
    "g = GradientBoostingClassifier(learning_rate=0.2).fit(train_data,train_label)\n",
    "r = RandomForestClassifier(n_estimators=100,n_jobs=-1, oob_score = 1,min_samples_leaf=100).fit(train_data,train_label)\n",
    "gnb = GaussianNB().fit(train_data,train_label)\n",
    "\n",
    "fpr_t, tpr_t, _ = roc_curve(validation_label, t.predict_proba(validation_data)[:,1])\n",
    "roc_auc_t = auc(fpr_t, tpr_t)\n",
    "\n",
    "fpr_d, tpr_d, _ = roc_curve(validation_label, d.predict_proba(validation_data)[:,1])\n",
    "roc_auc_d = auc(fpr_d, tpr_d)\n",
    "\n",
    "fpr_g, tpr_g, _ = roc_curve(validation_label, g.predict_proba(validation_data)[:,1])\n",
    "roc_auc_g = auc(fpr_g, tpr_g)\n",
    "\n",
    "fpr_r, tpr_r, _ = roc_curve(validation_label, r.predict_proba(validation_data)[:,1])\n",
    "roc_auc_r = auc(fpr_r, tpr_r)\n",
    "\n",
    "fpr_gnb, tpr_gnb, _ = roc_curve(validation_label, gnb.predict_proba(validation_data)[:,1])\n",
    "roc_auc_gnb = auc(fpr_gnb, tpr_gnb)\n",
    "\n",
    "plt.figure()\n",
    "plt.plot(fpr_t, tpr_t, label='Decision Tree (area = %0.2f)' % roc_auc_t)\n",
    "plt.plot(fpr_d, tpr_d, label='LogisticR(area = %0.2f)' % roc_auc_d)\n",
    "plt.plot(fpr_g, tpr_g, label='Gradient Boosting(area = %0.2f)' % roc_auc_g)\n",
    "plt.plot(fpr_r, tpr_r, label='Random Forest(area = %0.2f)' % roc_auc_r)\n",
    "plt.plot(fpr_gnb, tpr_gnb, label='Gaussian Naive Bayes(area = %0.2f)' % roc_auc_gnb)\n",
    "\n",
    "plt.plot([0, 1], [0, 1], 'k--')\n",
    "plt.xlim([0.0, 1.0])\n",
    "plt.ylim([0.0, 1.05])\n",
    "plt.xlabel('False Positive Rate')\n",
    "plt.ylabel('True Positive Rate')\n",
    "plt.title('User classification')\n",
    "plt.legend(loc=\"lower right\")\n",
    "plt.show()"
   ]
  },
  {
   "cell_type": "markdown",
   "metadata": {},
   "source": [
    "## 1. correlations among contineous variables"
   ]
  },
  {
   "cell_type": "code",
   "execution_count": 229,
   "metadata": {
    "collapsed": true
   },
   "outputs": [
    {
     "name": "stderr",
     "output_type": "stream",
     "text": [
      "/Users/stevezhang/anaconda/lib/python3.6/site-packages/statsmodels/stats/outliers_influence.py:167: RuntimeWarning:\n",
      "\n",
      "divide by zero encountered in double_scalars\n",
      "\n",
      "/Users/stevezhang/anaconda/lib/python3.6/site-packages/ipykernel/__main__.py:16: FutureWarning:\n",
      "\n",
      "sort(columns=....) is deprecated, use sort_values(by=.....)\n",
      "\n"
     ]
    },
    {
     "ename": "KeyboardInterrupt",
     "evalue": "",
     "output_type": "error",
     "traceback": [
      "\u001b[0;31m---------------------------------------------------------------------------\u001b[0m",
      "\u001b[0;31mKeyboardInterrupt\u001b[0m                         Traceback (most recent call last)",
      "\u001b[0;32m<ipython-input-229-14fd6379da1c>\u001b[0m in \u001b[0;36m<module>\u001b[0;34m()\u001b[0m\n\u001b[1;32m     27\u001b[0m        \u001b[0;34m'compliment_plain'\u001b[0m\u001b[0;34m,\u001b[0m \u001b[0;34m'compliment_profile'\u001b[0m\u001b[0;34m,\u001b[0m \u001b[0;34m'compliment_writer'\u001b[0m\u001b[0;34m,\u001b[0m \u001b[0;34m'cool'\u001b[0m\u001b[0;34m,\u001b[0m\u001b[0;34m\u001b[0m\u001b[0m\n\u001b[1;32m     28\u001b[0m        'fans', 'funny', 'num_friends', 'num_elite']\n\u001b[0;32m---> 29\u001b[0;31m \u001b[0mdevelop_vif\u001b[0m\u001b[0;34m(\u001b[0m\u001b[0mdf\u001b[0m\u001b[0;34m,\u001b[0m\u001b[0mco\u001b[0m\u001b[0;34m,\u001b[0m\u001b[0;36m1000\u001b[0m\u001b[0;34m,\u001b[0m\u001b[0;36m5\u001b[0m\u001b[0;34m)\u001b[0m\u001b[0;34m\u001b[0m\u001b[0m\n\u001b[0m",
      "\u001b[0;32m<ipython-input-229-14fd6379da1c>\u001b[0m in \u001b[0;36mdevelop_vif\u001b[0;34m(df, cols, amount, threshold)\u001b[0m\n\u001b[1;32m     19\u001b[0m         \u001b[0;32mif\u001b[0m \u001b[0;34m'Intercept'\u001b[0m \u001b[0;32min\u001b[0m \u001b[0mcols\u001b[0m\u001b[0;34m:\u001b[0m\u001b[0;34m\u001b[0m\u001b[0m\n\u001b[1;32m     20\u001b[0m             \u001b[0mcols\u001b[0m\u001b[0;34m.\u001b[0m\u001b[0mremove\u001b[0m\u001b[0;34m(\u001b[0m\u001b[0;34m'Intercept'\u001b[0m\u001b[0;34m)\u001b[0m\u001b[0;34m\u001b[0m\u001b[0m\n\u001b[0;32m---> 21\u001b[0;31m         \u001b[0mvif\u001b[0m\u001b[0;34m=\u001b[0m\u001b[0mvif_cal\u001b[0m\u001b[0;34m(\u001b[0m\u001b[0mdf\u001b[0m\u001b[0;34m,\u001b[0m\u001b[0mcols\u001b[0m\u001b[0;34m,\u001b[0m\u001b[0mamount\u001b[0m\u001b[0;34m)\u001b[0m\u001b[0;34m\u001b[0m\u001b[0m\n\u001b[0m\u001b[1;32m     22\u001b[0m \u001b[0;34m\u001b[0m\u001b[0m\n\u001b[1;32m     23\u001b[0m     \u001b[0;32mreturn\u001b[0m \u001b[0mvif\u001b[0m\u001b[0;34m\u001b[0m\u001b[0m\n",
      "\u001b[0;32m<ipython-input-229-14fd6379da1c>\u001b[0m in \u001b[0;36mvif_cal\u001b[0;34m(data, cols, amount)\u001b[0m\n\u001b[1;32m      8\u001b[0m     \u001b[0my\u001b[0m\u001b[0;34m,\u001b[0m \u001b[0mX\u001b[0m \u001b[0;34m=\u001b[0m \u001b[0mdmatrices\u001b[0m\u001b[0;34m(\u001b[0m\u001b[0;34m'user_class ~'\u001b[0m \u001b[0;34m+\u001b[0m \u001b[0mfeatures\u001b[0m\u001b[0;34m,\u001b[0m \u001b[0mdf\u001b[0m\u001b[0;34m,\u001b[0m \u001b[0mreturn_type\u001b[0m\u001b[0;34m=\u001b[0m\u001b[0;34m'dataframe'\u001b[0m\u001b[0;34m)\u001b[0m\u001b[0;34m\u001b[0m\u001b[0m\n\u001b[1;32m      9\u001b[0m     \u001b[0mvif\u001b[0m \u001b[0;34m=\u001b[0m \u001b[0mpd\u001b[0m\u001b[0;34m.\u001b[0m\u001b[0mDataFrame\u001b[0m\u001b[0;34m(\u001b[0m\u001b[0;34m)\u001b[0m\u001b[0;34m\u001b[0m\u001b[0m\n\u001b[0;32m---> 10\u001b[0;31m     \u001b[0mvif\u001b[0m\u001b[0;34m[\u001b[0m\u001b[0;34m\"VIF Factor\"\u001b[0m\u001b[0;34m]\u001b[0m \u001b[0;34m=\u001b[0m \u001b[0;34m[\u001b[0m\u001b[0mvariance_inflation_factor\u001b[0m\u001b[0;34m(\u001b[0m\u001b[0mX\u001b[0m\u001b[0;34m.\u001b[0m\u001b[0mvalues\u001b[0m\u001b[0;34m,\u001b[0m \u001b[0mi\u001b[0m\u001b[0;34m)\u001b[0m \u001b[0;32mfor\u001b[0m \u001b[0mi\u001b[0m \u001b[0;32min\u001b[0m \u001b[0mrange\u001b[0m\u001b[0;34m(\u001b[0m\u001b[0mX\u001b[0m\u001b[0;34m.\u001b[0m\u001b[0mshape\u001b[0m\u001b[0;34m[\u001b[0m\u001b[0;36m1\u001b[0m\u001b[0;34m]\u001b[0m\u001b[0;34m)\u001b[0m\u001b[0;34m]\u001b[0m\u001b[0;34m\u001b[0m\u001b[0m\n\u001b[0m\u001b[1;32m     11\u001b[0m     \u001b[0mvif\u001b[0m\u001b[0;34m[\u001b[0m\u001b[0;34m\"features\"\u001b[0m\u001b[0;34m]\u001b[0m \u001b[0;34m=\u001b[0m \u001b[0mX\u001b[0m\u001b[0;34m.\u001b[0m\u001b[0mcolumns\u001b[0m\u001b[0;34m\u001b[0m\u001b[0m\n\u001b[1;32m     12\u001b[0m     \u001b[0;32mreturn\u001b[0m \u001b[0mvif\u001b[0m\u001b[0;34m\u001b[0m\u001b[0m\n",
      "\u001b[0;32m<ipython-input-229-14fd6379da1c>\u001b[0m in \u001b[0;36m<listcomp>\u001b[0;34m(.0)\u001b[0m\n\u001b[1;32m      8\u001b[0m     \u001b[0my\u001b[0m\u001b[0;34m,\u001b[0m \u001b[0mX\u001b[0m \u001b[0;34m=\u001b[0m \u001b[0mdmatrices\u001b[0m\u001b[0;34m(\u001b[0m\u001b[0;34m'user_class ~'\u001b[0m \u001b[0;34m+\u001b[0m \u001b[0mfeatures\u001b[0m\u001b[0;34m,\u001b[0m \u001b[0mdf\u001b[0m\u001b[0;34m,\u001b[0m \u001b[0mreturn_type\u001b[0m\u001b[0;34m=\u001b[0m\u001b[0;34m'dataframe'\u001b[0m\u001b[0;34m)\u001b[0m\u001b[0;34m\u001b[0m\u001b[0m\n\u001b[1;32m      9\u001b[0m     \u001b[0mvif\u001b[0m \u001b[0;34m=\u001b[0m \u001b[0mpd\u001b[0m\u001b[0;34m.\u001b[0m\u001b[0mDataFrame\u001b[0m\u001b[0;34m(\u001b[0m\u001b[0;34m)\u001b[0m\u001b[0;34m\u001b[0m\u001b[0m\n\u001b[0;32m---> 10\u001b[0;31m     \u001b[0mvif\u001b[0m\u001b[0;34m[\u001b[0m\u001b[0;34m\"VIF Factor\"\u001b[0m\u001b[0;34m]\u001b[0m \u001b[0;34m=\u001b[0m \u001b[0;34m[\u001b[0m\u001b[0mvariance_inflation_factor\u001b[0m\u001b[0;34m(\u001b[0m\u001b[0mX\u001b[0m\u001b[0;34m.\u001b[0m\u001b[0mvalues\u001b[0m\u001b[0;34m,\u001b[0m \u001b[0mi\u001b[0m\u001b[0;34m)\u001b[0m \u001b[0;32mfor\u001b[0m \u001b[0mi\u001b[0m \u001b[0;32min\u001b[0m \u001b[0mrange\u001b[0m\u001b[0;34m(\u001b[0m\u001b[0mX\u001b[0m\u001b[0;34m.\u001b[0m\u001b[0mshape\u001b[0m\u001b[0;34m[\u001b[0m\u001b[0;36m1\u001b[0m\u001b[0;34m]\u001b[0m\u001b[0;34m)\u001b[0m\u001b[0;34m]\u001b[0m\u001b[0;34m\u001b[0m\u001b[0m\n\u001b[0m\u001b[1;32m     11\u001b[0m     \u001b[0mvif\u001b[0m\u001b[0;34m[\u001b[0m\u001b[0;34m\"features\"\u001b[0m\u001b[0;34m]\u001b[0m \u001b[0;34m=\u001b[0m \u001b[0mX\u001b[0m\u001b[0;34m.\u001b[0m\u001b[0mcolumns\u001b[0m\u001b[0;34m\u001b[0m\u001b[0m\n\u001b[1;32m     12\u001b[0m     \u001b[0;32mreturn\u001b[0m \u001b[0mvif\u001b[0m\u001b[0;34m\u001b[0m\u001b[0m\n",
      "\u001b[0;32m/Users/stevezhang/anaconda/lib/python3.6/site-packages/statsmodels/stats/outliers_influence.py\u001b[0m in \u001b[0;36mvariance_inflation_factor\u001b[0;34m(exog, exog_idx)\u001b[0m\n\u001b[1;32m    164\u001b[0m     \u001b[0mmask\u001b[0m \u001b[0;34m=\u001b[0m \u001b[0mnp\u001b[0m\u001b[0;34m.\u001b[0m\u001b[0marange\u001b[0m\u001b[0;34m(\u001b[0m\u001b[0mk_vars\u001b[0m\u001b[0;34m)\u001b[0m \u001b[0;34m!=\u001b[0m \u001b[0mexog_idx\u001b[0m\u001b[0;34m\u001b[0m\u001b[0m\n\u001b[1;32m    165\u001b[0m     \u001b[0mx_noti\u001b[0m \u001b[0;34m=\u001b[0m \u001b[0mexog\u001b[0m\u001b[0;34m[\u001b[0m\u001b[0;34m:\u001b[0m\u001b[0;34m,\u001b[0m \u001b[0mmask\u001b[0m\u001b[0;34m]\u001b[0m\u001b[0;34m\u001b[0m\u001b[0m\n\u001b[0;32m--> 166\u001b[0;31m     \u001b[0mr_squared_i\u001b[0m \u001b[0;34m=\u001b[0m \u001b[0mOLS\u001b[0m\u001b[0;34m(\u001b[0m\u001b[0mx_i\u001b[0m\u001b[0;34m,\u001b[0m \u001b[0mx_noti\u001b[0m\u001b[0;34m)\u001b[0m\u001b[0;34m.\u001b[0m\u001b[0mfit\u001b[0m\u001b[0;34m(\u001b[0m\u001b[0;34m)\u001b[0m\u001b[0;34m.\u001b[0m\u001b[0mrsquared\u001b[0m\u001b[0;34m\u001b[0m\u001b[0m\n\u001b[0m\u001b[1;32m    167\u001b[0m     \u001b[0mvif\u001b[0m \u001b[0;34m=\u001b[0m \u001b[0;36m1.\u001b[0m \u001b[0;34m/\u001b[0m \u001b[0;34m(\u001b[0m\u001b[0;36m1.\u001b[0m \u001b[0;34m-\u001b[0m \u001b[0mr_squared_i\u001b[0m\u001b[0;34m)\u001b[0m\u001b[0;34m\u001b[0m\u001b[0m\n\u001b[1;32m    168\u001b[0m     \u001b[0;32mreturn\u001b[0m \u001b[0mvif\u001b[0m\u001b[0;34m\u001b[0m\u001b[0m\n",
      "\u001b[0;32m/Users/stevezhang/anaconda/lib/python3.6/site-packages/statsmodels/regression/linear_model.py\u001b[0m in \u001b[0;36mfit\u001b[0;34m(self, method, cov_type, cov_kwds, use_t, **kwargs)\u001b[0m\n\u001b[1;32m    167\u001b[0m         \u001b[0mto\u001b[0m \u001b[0msolve\u001b[0m \u001b[0mthe\u001b[0m \u001b[0mleast\u001b[0m \u001b[0msquares\u001b[0m \u001b[0mminimization\u001b[0m\u001b[0;34m.\u001b[0m\u001b[0;34m\u001b[0m\u001b[0m\n\u001b[1;32m    168\u001b[0m         \"\"\"\n\u001b[0;32m--> 169\u001b[0;31m         \u001b[0;32mif\u001b[0m \u001b[0mmethod\u001b[0m \u001b[0;34m==\u001b[0m \u001b[0;34m\"pinv\"\u001b[0m\u001b[0;34m:\u001b[0m\u001b[0;34m\u001b[0m\u001b[0m\n\u001b[0m\u001b[1;32m    170\u001b[0m             if ((not hasattr(self, 'pinv_wexog')) or\n\u001b[1;32m    171\u001b[0m                 \u001b[0;34m(\u001b[0m\u001b[0;32mnot\u001b[0m \u001b[0mhasattr\u001b[0m\u001b[0;34m(\u001b[0m\u001b[0mself\u001b[0m\u001b[0;34m,\u001b[0m \u001b[0;34m'normalized_cov_params'\u001b[0m\u001b[0;34m)\u001b[0m\u001b[0;34m)\u001b[0m \u001b[0;32mor\u001b[0m\u001b[0;34m\u001b[0m\u001b[0m\n",
      "\u001b[0;31mKeyboardInterrupt\u001b[0m: "
     ]
    }
   ],
   "source": [
    "from statsmodels.stats.outliers_influence import variance_inflation_factor\n",
    "from patsy import dmatrices\n",
    "def vif_cal(data,cols,amount):\n",
    "    features=\"+\".join(cols)\n",
    "    cols.append('user_class')\n",
    "    df=data[cols]\n",
    "    df=df[:amount]\n",
    "    y, X = dmatrices('user_class ~' + features, df, return_type='dataframe')\n",
    "    vif = pd.DataFrame()\n",
    "    vif[\"VIF Factor\"] = [variance_inflation_factor(X.values, i) for i in range(X.shape[1])]\n",
    "    vif[\"features\"] = X.columns\n",
    "    return vif\n",
    "def develop_vif(df,cols,amount,threshold):\n",
    "    vif=vif_cal(df,cols,amount)\n",
    "    while(max(vif['VIF Factor'])>5):\n",
    "        vif=vif.sort(['VIF Factor'])\n",
    "        vif=vif[:-1]\n",
    "        cols=list(vif.features)\n",
    "        if 'Intercept' in cols:\n",
    "            cols.remove('Intercept')\n",
    "        vif=vif_cal(df,cols,amount)\n",
    "        \n",
    "    return vif\n",
    "co=['average_stars', 'compliment_cool', 'compliment_cute',\n",
    "       'compliment_funny', 'compliment_hot', 'compliment_list',\n",
    "       'compliment_more', 'compliment_note', 'compliment_photos',\n",
    "       'compliment_plain', 'compliment_profile', 'compliment_writer', 'cool',\n",
    "       'fans', 'funny', 'num_friends', 'num_elite']\n",
    "develop_vif(df,co,1000,5)"
   ]
  },
  {
   "cell_type": "markdown",
   "metadata": {
    "collapsed": false
   },
   "source": [
    "## Feature selection"
   ]
  },
  {
   "cell_type": "code",
   "execution_count": 59,
   "metadata": {
    "collapsed": false
   },
   "outputs": [],
   "source": [
    "del data['ratings']"
   ]
  },
  {
   "cell_type": "markdown",
   "metadata": {},
   "source": [
    "### variance threshold"
   ]
  },
  {
   "cell_type": "code",
   "execution_count": 21,
   "metadata": {
    "collapsed": false
   },
   "outputs": [],
   "source": [
    "from sklearn.feature_selection import VarianceThreshold\n",
    "from sklearn.preprocessing import MinMaxScaler"
   ]
  },
  {
   "cell_type": "code",
   "execution_count": 139,
   "metadata": {
    "collapsed": false
   },
   "outputs": [],
   "source": [
    "scaler = MinMaxScaler()\n",
    "MinMaxScaler(copy=True, feature_range=(0, 1))\n",
    "scaler.fit(data)\n",
    "a=scaler.transform(data)\n"
   ]
  },
  {
   "cell_type": "code",
   "execution_count": 67,
   "metadata": {
    "collapsed": false
   },
   "outputs": [
    {
     "data": {
      "text/plain": [
       "array([  2.09257153e-01,   1.18907543e+05,   7.85057766e+02,\n",
       "         1.18907543e+05,   1.11308383e+05,   2.11051298e+02,\n",
       "         8.79953277e+02,   9.33326247e+04,   8.68291230e+04,\n",
       "         1.18404490e+05,   1.25218107e+03,   1.73056839e+04,\n",
       "         6.53425359e+06,   2.78023924e+03,   3.15190248e+06,\n",
       "         8.61384615e+04,   7.51715089e+06,   6.51126047e+05,\n",
       "         8.86508746e+05,   1.61310437e+05,   5.23179019e+00])"
      ]
     },
     "execution_count": 67,
     "metadata": {},
     "output_type": "execute_result"
    }
   ],
   "source": [
    "scaler.var_"
   ]
  },
  {
   "cell_type": "code",
   "execution_count": 136,
   "metadata": {
    "collapsed": false
   },
   "outputs": [
    {
     "data": {
      "text/plain": [
       "array([[ 0.        ,  0.        ],\n",
       "       [ 0.        ,  0.34285714],\n",
       "       [ 0.        ,  0.6       ],\n",
       "       [ 0.        ,  0.4       ],\n",
       "       [ 0.        ,  1.        ],\n",
       "       [ 0.        ,  0.02857143]])"
      ]
     },
     "execution_count": 136,
     "metadata": {},
     "output_type": "execute_result"
    }
   ],
   "source": [
    "a"
   ]
  },
  {
   "cell_type": "code",
   "execution_count": 142,
   "metadata": {
    "collapsed": false
   },
   "outputs": [],
   "source": [
    "b=[]\n",
    "c=[]\n",
    "for j in range(0,20):\n",
    "    b=[]\n",
    "    for i in range(0, len(a)):\n",
    "        b.append(a[i][j]) \n",
    "    c.append(np.var(b))"
   ]
  },
  {
   "cell_type": "markdown",
   "metadata": {},
   "source": [
    "### Recursive Feature Elimination"
   ]
  },
  {
   "cell_type": "code",
   "execution_count": 37,
   "metadata": {
    "collapsed": true
   },
   "outputs": [],
   "source": [
    "from sklearn.feature_selection import RFE"
   ]
  },
  {
   "cell_type": "markdown",
   "metadata": {},
   "source": [
    "#### Naive Bayes"
   ]
  },
  {
   "cell_type": "markdown",
   "metadata": {},
   "source": [
    "#### 1. Logistic Regression"
   ]
  },
  {
   "cell_type": "code",
   "execution_count": 38,
   "metadata": {
    "collapsed": true
   },
   "outputs": [],
   "source": [
    "def rfe_feature(data,label,model,num):\n",
    "    X = data\n",
    "    Y = label\n",
    "    rfe = RFE(model, num)\n",
    "    fit = rfe.fit(X, Y)\n",
    "    return data.columns[fit.support_],fit.ranking_\n"
   ]
  },
  {
   "cell_type": "code",
   "execution_count": 176,
   "metadata": {
    "collapsed": false
   },
   "outputs": [],
   "source": [
    "#lr\n",
    "lr_features,lr_rankings=rfe_feature(train_data,train_label,LogisticRegression(),5)\n",
    "#decision tree\n",
    "dt_features,dt_rankings=rfe_feature(train_data,train_label,DecisionTreeClassifier(),5)\n",
    "#random forest\n",
    "rf_features,rf_rankings=rfe_feature(train_data,train_label,RandomForestClassifier(),5)\n",
    "#adaboost\n",
    "ad_features,ad_rankings=rfe_feature(train_data,train_label,AdaBoostClassifier(),5)\n",
    "#gradient boost\n",
    "gb_features,gb_rankings=rfe_feature(train_data,train_label,GradientBoostingClassifier(),5)"
   ]
  },
  {
   "cell_type": "code",
   "execution_count": 177,
   "metadata": {
    "collapsed": false
   },
   "outputs": [
    {
     "data": {
      "text/plain": [
       "(Index(['average_stars', 'compliment_list', 'compliment_more', 'fans',\n",
       "        'num_elite'],\n",
       "       dtype='object'),\n",
       " Index(['average_stars', 'review_count', 'useful', 'yelping_since',\n",
       "        'num_friends'],\n",
       "       dtype='object'),\n",
       " Index(['average_stars', 'review_count', 'yelping_since', 'yelping_age',\n",
       "        'num_friends'],\n",
       "       dtype='object'),\n",
       " Index(['average_stars', 'review_count', 'useful', 'yelping_since',\n",
       "        'num_elite'],\n",
       "       dtype='object'),\n",
       " Index(['average_stars', 'review_count', 'useful', 'yelping_since',\n",
       "        'num_friends'],\n",
       "       dtype='object'))"
      ]
     },
     "execution_count": 177,
     "metadata": {},
     "output_type": "execute_result"
    }
   ],
   "source": [
    "lr_features,dt_features,rf_features,ad_features,gb_features"
   ]
  },
  {
   "cell_type": "markdown",
   "metadata": {},
   "source": [
    "### performance after feature selection"
   ]
  },
  {
   "cell_type": "markdown",
   "metadata": {},
   "source": [
    "#### Logistic Regression"
   ]
  },
  {
   "cell_type": "code",
   "execution_count": 207,
   "metadata": {
    "collapsed": false
   },
   "outputs": [
    {
     "name": "stdout",
     "output_type": "stream",
     "text": [
      "precision: [ 0.60291527  0.42990654]\n",
      "recall: [ 0.98405229  0.01821782]\n",
      "fscore: [ 0.74771553  0.03495441]\n",
      "support: [3825 2525]\n"
     ]
    }
   ],
   "source": [
    "lg=LogisticRegression().fit(train_data,train_label)\n",
    "precision, recall, fscore, support = score(validation_label, lg.predict(validation_data))\n",
    "\n",
    "print('precision: {}'.format(precision))\n",
    "print('recall: {}'.format(recall))\n",
    "print('fscore: {}'.format(fscore))\n",
    "print('support: {}'.format(support))"
   ]
  },
  {
   "cell_type": "code",
   "execution_count": 367,
   "metadata": {
    "collapsed": false
   },
   "outputs": [
    {
     "ename": "AttributeError",
     "evalue": "'LogisticRegression' object has no attribute 'summary'",
     "output_type": "error",
     "traceback": [
      "\u001b[0;31m---------------------------------------------------------------------------\u001b[0m",
      "\u001b[0;31mAttributeError\u001b[0m                            Traceback (most recent call last)",
      "\u001b[0;32m<ipython-input-367-38150d3e384f>\u001b[0m in \u001b[0;36m<module>\u001b[0;34m()\u001b[0m\n\u001b[0;32m----> 1\u001b[0;31m \u001b[0mlg\u001b[0m\u001b[0;34m.\u001b[0m\u001b[0msummary\u001b[0m\u001b[0;34m(\u001b[0m\u001b[0;34m)\u001b[0m\u001b[0;34m\u001b[0m\u001b[0m\n\u001b[0m",
      "\u001b[0;31mAttributeError\u001b[0m: 'LogisticRegression' object has no attribute 'summary'"
     ]
    }
   ],
   "source": [
    "lg.summary()"
   ]
  },
  {
   "cell_type": "code",
   "execution_count": 350,
   "metadata": {
    "collapsed": true
   },
   "outputs": [],
   "source": [
    "lr_train=train_data[['average_stars', 'compliment_list', 'compliment_more', 'fans',\n",
    "        'num_elite']]\n",
    "lr_validation=validation_data[['average_stars', 'compliment_list', 'compliment_more', 'fans',\n",
    "        'num_elite']]"
   ]
  },
  {
   "cell_type": "code",
   "execution_count": 352,
   "metadata": {
    "collapsed": false
   },
   "outputs": [
    {
     "name": "stdout",
     "output_type": "stream",
     "text": [
      "precision: [ 0.60252366  0.5       ]\n",
      "recall: [ 0.99869281  0.0019802 ]\n",
      "fscore: [ 0.75159862  0.00394477]\n",
      "support: [3825 2525]\n"
     ]
    }
   ],
   "source": [
    "lr= LogisticRegression().fit(lr_train, train_label)\n",
    "precision, recall, fscore, support = score(validation_label, lr.predict(lr_validation))\n",
    "\n",
    "print('precision: {}'.format(precision))\n",
    "print('recall: {}'.format(recall))\n",
    "print('fscore: {}'.format(fscore))\n",
    "print('support: {}'.format(support))"
   ]
  },
  {
   "cell_type": "code",
   "execution_count": 369,
   "metadata": {
    "collapsed": false
   },
   "outputs": [
    {
     "data": {
      "image/png": "[encoded data removed]",
      "text/plain": [
       "<matplotlib.figure.Figure at 0x132357908>"
      ]
     },
     "metadata": {},
     "output_type": "display_data"
    }
   ],
   "source": [
    "lr = LogisticRegression().fit(train_data,train_label)\n",
    "flr=LogisticRegression().fit(lr_train,train_label)\n",
    "fpr_lr, tpr_lr, _ = roc_curve(validation_label, lr.predict_proba(validation_data)[:,1])\n",
    "roc_auc_lr = auc(fpr_lr, tpr_lr)\n",
    "\n",
    "fpr_flr, tpr_flr, _ = roc_curve(validation_label, flr.predict_proba(lr_validation)[:,1])\n",
    "roc_auc_flr = auc(fpr_flr, tpr_flr)\n",
    "\n",
    "plt.figure()\n",
    "plt.plot(fpr_lr, tpr_lr, label='logistic regression (area = %0.2f)' % roc_auc_lr)\n",
    "#plt.plot(fpr_flr, tpr_flr, label='after feature selection (area = %0.2f)' % roc_auc_flr)\n",
    "\n",
    "\n",
    "plt.plot([0, 1], [0, 1], 'k--')\n",
    "plt.xlim([0.0, 1.0])\n",
    "plt.ylim([0.0, 1.05])\n",
    "plt.xlabel('False Positive Rate')\n",
    "plt.ylabel('True Positive Rate')\n",
    "plt.title('Logistic Regression')\n",
    "plt.legend(loc=\"lower right\")\n",
    "plt.show()"
   ]
  },
  {
   "cell_type": "markdown",
   "metadata": {},
   "source": [
    "### decision tree"
   ]
  },
  {
   "cell_type": "markdown",
   "metadata": {},
   "source": [
    "#### before feature selection"
   ]
  },
  {
   "cell_type": "code",
   "execution_count": 201,
   "metadata": {
    "collapsed": false
   },
   "outputs": [
    {
     "name": "stdout",
     "output_type": "stream",
     "text": [
      "precision: [ 0.7195122   0.56904577]\n",
      "recall: [ 0.70954248  0.5809901 ]\n",
      "fscore: [ 0.71449256  0.57495591]\n",
      "support: [3825 2525]\n"
     ]
    }
   ],
   "source": [
    "clf = tree.DecisionTreeClassifier()\n",
    "clf = clf.fit(train_data, train_label)\n",
    "precision, recall, fscore, support = score(validation_label, clf.predict(validation_data))\n",
    "\n",
    "print('precision: {}'.format(precision))\n",
    "print('recall: {}'.format(recall))\n",
    "print('fscore: {}'.format(fscore))\n",
    "print('support: {}'.format(support))"
   ]
  },
  {
   "cell_type": "code",
   "execution_count": 347,
   "metadata": {
    "collapsed": true
   },
   "outputs": [
    {
     "name": "stderr",
     "output_type": "stream",
     "text": [
      "/Users/stevezhang/anaconda/lib/python3.6/site-packages/ipykernel/__main__.py:2: FutureWarning:\n",
      "\n",
      "sort(columns=....) is deprecated, use sort_values(by=.....)\n",
      "\n"
     ]
    },
    {
     "data": {
      "text/html": [
       "<div>\n",
       "<table border=\"1\" class=\"dataframe\">\n",
       "  <thead>\n",
       "    <tr style=\"text-align: right;\">\n",
       "      <th></th>\n",
       "      <th>feature</th>\n",
       "      <th>importance</th>\n",
       "    </tr>\n",
       "  </thead>\n",
       "  <tbody>\n",
       "    <tr>\n",
       "      <th>5</th>\n",
       "      <td>compliment_list</td>\n",
       "      <td>0.005188</td>\n",
       "    </tr>\n",
       "    <tr>\n",
       "      <th>2</th>\n",
       "      <td>compliment_cute</td>\n",
       "      <td>0.011462</td>\n",
       "    </tr>\n",
       "    <tr>\n",
       "      <th>10</th>\n",
       "      <td>compliment_profile</td>\n",
       "      <td>0.011821</td>\n",
       "    </tr>\n",
       "    <tr>\n",
       "      <th>20</th>\n",
       "      <td>num_elite</td>\n",
       "      <td>0.013348</td>\n",
       "    </tr>\n",
       "    <tr>\n",
       "      <th>3</th>\n",
       "      <td>compliment_funny</td>\n",
       "      <td>0.014318</td>\n",
       "    </tr>\n",
       "    <tr>\n",
       "      <th>1</th>\n",
       "      <td>compliment_cool</td>\n",
       "      <td>0.017840</td>\n",
       "    </tr>\n",
       "    <tr>\n",
       "      <th>8</th>\n",
       "      <td>compliment_photos</td>\n",
       "      <td>0.019172</td>\n",
       "    </tr>\n",
       "    <tr>\n",
       "      <th>4</th>\n",
       "      <td>compliment_hot</td>\n",
       "      <td>0.021201</td>\n",
       "    </tr>\n",
       "    <tr>\n",
       "      <th>6</th>\n",
       "      <td>compliment_more</td>\n",
       "      <td>0.021247</td>\n",
       "    </tr>\n",
       "    <tr>\n",
       "      <th>11</th>\n",
       "      <td>compliment_writer</td>\n",
       "      <td>0.029700</td>\n",
       "    </tr>\n",
       "    <tr>\n",
       "      <th>7</th>\n",
       "      <td>compliment_note</td>\n",
       "      <td>0.029806</td>\n",
       "    </tr>\n",
       "    <tr>\n",
       "      <th>9</th>\n",
       "      <td>compliment_plain</td>\n",
       "      <td>0.032749</td>\n",
       "    </tr>\n",
       "    <tr>\n",
       "      <th>13</th>\n",
       "      <td>fans</td>\n",
       "      <td>0.036677</td>\n",
       "    </tr>\n",
       "    <tr>\n",
       "      <th>12</th>\n",
       "      <td>cool</td>\n",
       "      <td>0.037577</td>\n",
       "    </tr>\n",
       "    <tr>\n",
       "      <th>14</th>\n",
       "      <td>funny</td>\n",
       "      <td>0.043081</td>\n",
       "    </tr>\n",
       "    <tr>\n",
       "      <th>18</th>\n",
       "      <td>yelping_age</td>\n",
       "      <td>0.053380</td>\n",
       "    </tr>\n",
       "    <tr>\n",
       "      <th>16</th>\n",
       "      <td>useful</td>\n",
       "      <td>0.056936</td>\n",
       "    </tr>\n",
       "    <tr>\n",
       "      <th>19</th>\n",
       "      <td>num_friends</td>\n",
       "      <td>0.071717</td>\n",
       "    </tr>\n",
       "    <tr>\n",
       "      <th>17</th>\n",
       "      <td>yelping_since</td>\n",
       "      <td>0.072404</td>\n",
       "    </tr>\n",
       "    <tr>\n",
       "      <th>15</th>\n",
       "      <td>review_count</td>\n",
       "      <td>0.115427</td>\n",
       "    </tr>\n",
       "    <tr>\n",
       "      <th>0</th>\n",
       "      <td>average_stars</td>\n",
       "      <td>0.284949</td>\n",
       "    </tr>\n",
       "  </tbody>\n",
       "</table>\n",
       "</div>"
      ],
      "text/plain": [
       "               feature  importance\n",
       "5      compliment_list    0.005188\n",
       "2      compliment_cute    0.011462\n",
       "10  compliment_profile    0.011821\n",
       "20           num_elite    0.013348\n",
       "3     compliment_funny    0.014318\n",
       "1      compliment_cool    0.017840\n",
       "8    compliment_photos    0.019172\n",
       "4       compliment_hot    0.021201\n",
       "6      compliment_more    0.021247\n",
       "11   compliment_writer    0.029700\n",
       "7      compliment_note    0.029806\n",
       "9     compliment_plain    0.032749\n",
       "13                fans    0.036677\n",
       "12                cool    0.037577\n",
       "14               funny    0.043081\n",
       "18         yelping_age    0.053380\n",
       "16              useful    0.056936\n",
       "19         num_friends    0.071717\n",
       "17       yelping_since    0.072404\n",
       "15        review_count    0.115427\n",
       "0        average_stars    0.284949"
      ]
     },
     "execution_count": 347,
     "metadata": {},
     "output_type": "execute_result"
    }
   ],
   "source": [
    "clf_feature=pd.DataFrame({'feature':train_data.columns,'importance':clf.feature_importances_})\n",
    "clf_feature.sort('importance')"
   ]
  },
  {
   "cell_type": "markdown",
   "metadata": {},
   "source": [
    "#### before feature selection"
   ]
  },
  {
   "cell_type": "code",
   "execution_count": 243,
   "metadata": {
    "collapsed": true
   },
   "outputs": [],
   "source": [
    "clf_train=train_data[['average_stars', 'review_count', 'useful', 'yelping_since',\n",
    "        'num_friends']]\n",
    "clf_validation=validation_data[['average_stars', 'review_count', 'useful', 'yelping_since',\n",
    "        'num_friends']]"
   ]
  },
  {
   "cell_type": "code",
   "execution_count": 244,
   "metadata": {
    "collapsed": false
   },
   "outputs": [
    {
     "name": "stdout",
     "output_type": "stream",
     "text": [
      "precision: [ 0.71792829  0.56595745]\n",
      "recall: [ 0.70666667  0.57940594]\n",
      "fscore: [ 0.71225296  0.57260274]\n",
      "support: [3825 2525]\n"
     ]
    }
   ],
   "source": [
    "clf = tree.DecisionTreeClassifier()\n",
    "clf = clf.fit(clf_train, train_label)\n",
    "precision, recall, fscore, support = score(validation_label, clf.predict(clf_validation))\n",
    "\n",
    "print('precision: {}'.format(precision))\n",
    "print('recall: {}'.format(recall))\n",
    "print('fscore: {}'.format(fscore))\n",
    "print('support: {}'.format(support))"
   ]
  },
  {
   "cell_type": "markdown",
   "metadata": {},
   "source": [
    "### Random Forest\n",
    "#### before feature selection"
   ]
  },
  {
   "cell_type": "code",
   "execution_count": 286,
   "metadata": {
    "collapsed": true
   },
   "outputs": [],
   "source": [
    "%timeit"
   ]
  },
  {
   "cell_type": "code",
   "execution_count": 196,
   "metadata": {
    "collapsed": false
   },
   "outputs": [
    {
     "name": "stdout",
     "output_type": "stream",
     "text": [
      "precision: [ 0.72551085  0.76232065]\n",
      "recall: [ 0.90039216  0.4839604 ]\n",
      "fscore: [ 0.80354643  0.59205426]\n",
      "support: [3825 2525]\n"
     ]
    }
   ],
   "source": [
    "# Create a random forest classifier. By convention, clf means 'classifier'\n",
    "\n",
    "rf = RandomForestClassifier(n_estimators=100,n_jobs=-1, oob_score = 1,min_samples_leaf=100)\n",
    "\n",
    "# Train the classifier to take the training features and learn how they relate\n",
    "# to the training y (the species)\n",
    "rf.fit(train_data,train_label)\n",
    "precision, recall, fscore, support = score(validation_label, rf.predict(validation_data))\n",
    "\n",
    "print('precision: {}'.format(precision))\n",
    "print('recall: {}'.format(recall))\n",
    "print('fscore: {}'.format(fscore))\n",
    "print('support: {}'.format(support))"
   ]
  },
  {
   "cell_type": "code",
   "execution_count": 370,
   "metadata": {
    "collapsed": false
   },
   "outputs": [
    {
     "name": "stderr",
     "output_type": "stream",
     "text": [
      "/Users/stevezhang/anaconda/lib/python3.6/site-packages/ipykernel/__main__.py:2: FutureWarning:\n",
      "\n",
      "sort(columns=....) is deprecated, use sort_values(by=.....)\n",
      "\n"
     ]
    },
    {
     "data": {
      "text/html": [
       "<div>\n",
       "<table border=\"1\" class=\"dataframe\">\n",
       "  <thead>\n",
       "    <tr style=\"text-align: right;\">\n",
       "      <th></th>\n",
       "      <th>feature</th>\n",
       "      <th>importance</th>\n",
       "    </tr>\n",
       "  </thead>\n",
       "  <tbody>\n",
       "    <tr>\n",
       "      <th>0</th>\n",
       "      <td>average_stars</td>\n",
       "      <td>0.756026</td>\n",
       "    </tr>\n",
       "    <tr>\n",
       "      <th>15</th>\n",
       "      <td>review_count</td>\n",
       "      <td>0.069280</td>\n",
       "    </tr>\n",
       "    <tr>\n",
       "      <th>19</th>\n",
       "      <td>num_friends</td>\n",
       "      <td>0.021678</td>\n",
       "    </tr>\n",
       "    <tr>\n",
       "      <th>17</th>\n",
       "      <td>yelping_since</td>\n",
       "      <td>0.019387</td>\n",
       "    </tr>\n",
       "    <tr>\n",
       "      <th>16</th>\n",
       "      <td>useful</td>\n",
       "      <td>0.018070</td>\n",
       "    </tr>\n",
       "    <tr>\n",
       "      <th>18</th>\n",
       "      <td>yelping_age</td>\n",
       "      <td>0.015849</td>\n",
       "    </tr>\n",
       "    <tr>\n",
       "      <th>7</th>\n",
       "      <td>compliment_note</td>\n",
       "      <td>0.012888</td>\n",
       "    </tr>\n",
       "    <tr>\n",
       "      <th>14</th>\n",
       "      <td>funny</td>\n",
       "      <td>0.011609</td>\n",
       "    </tr>\n",
       "    <tr>\n",
       "      <th>9</th>\n",
       "      <td>compliment_plain</td>\n",
       "      <td>0.011170</td>\n",
       "    </tr>\n",
       "    <tr>\n",
       "      <th>12</th>\n",
       "      <td>cool</td>\n",
       "      <td>0.009382</td>\n",
       "    </tr>\n",
       "    <tr>\n",
       "      <th>13</th>\n",
       "      <td>fans</td>\n",
       "      <td>0.008415</td>\n",
       "    </tr>\n",
       "    <tr>\n",
       "      <th>3</th>\n",
       "      <td>compliment_funny</td>\n",
       "      <td>0.007567</td>\n",
       "    </tr>\n",
       "    <tr>\n",
       "      <th>20</th>\n",
       "      <td>num_elite</td>\n",
       "      <td>0.006749</td>\n",
       "    </tr>\n",
       "    <tr>\n",
       "      <th>1</th>\n",
       "      <td>compliment_cool</td>\n",
       "      <td>0.006343</td>\n",
       "    </tr>\n",
       "    <tr>\n",
       "      <th>11</th>\n",
       "      <td>compliment_writer</td>\n",
       "      <td>0.006329</td>\n",
       "    </tr>\n",
       "    <tr>\n",
       "      <th>4</th>\n",
       "      <td>compliment_hot</td>\n",
       "      <td>0.006257</td>\n",
       "    </tr>\n",
       "    <tr>\n",
       "      <th>8</th>\n",
       "      <td>compliment_photos</td>\n",
       "      <td>0.003531</td>\n",
       "    </tr>\n",
       "    <tr>\n",
       "      <th>6</th>\n",
       "      <td>compliment_more</td>\n",
       "      <td>0.003461</td>\n",
       "    </tr>\n",
       "    <tr>\n",
       "      <th>10</th>\n",
       "      <td>compliment_profile</td>\n",
       "      <td>0.002931</td>\n",
       "    </tr>\n",
       "    <tr>\n",
       "      <th>2</th>\n",
       "      <td>compliment_cute</td>\n",
       "      <td>0.002373</td>\n",
       "    </tr>\n",
       "    <tr>\n",
       "      <th>5</th>\n",
       "      <td>compliment_list</td>\n",
       "      <td>0.000704</td>\n",
       "    </tr>\n",
       "  </tbody>\n",
       "</table>\n",
       "</div>"
      ],
      "text/plain": [
       "               feature  importance\n",
       "0        average_stars    0.756026\n",
       "15        review_count    0.069280\n",
       "19         num_friends    0.021678\n",
       "17       yelping_since    0.019387\n",
       "16              useful    0.018070\n",
       "18         yelping_age    0.015849\n",
       "7      compliment_note    0.012888\n",
       "14               funny    0.011609\n",
       "9     compliment_plain    0.011170\n",
       "12                cool    0.009382\n",
       "13                fans    0.008415\n",
       "3     compliment_funny    0.007567\n",
       "20           num_elite    0.006749\n",
       "1      compliment_cool    0.006343\n",
       "11   compliment_writer    0.006329\n",
       "4       compliment_hot    0.006257\n",
       "8    compliment_photos    0.003531\n",
       "6      compliment_more    0.003461\n",
       "10  compliment_profile    0.002931\n",
       "2      compliment_cute    0.002373\n",
       "5      compliment_list    0.000704"
      ]
     },
     "execution_count": 370,
     "metadata": {},
     "output_type": "execute_result"
    }
   ],
   "source": [
    "rf_feature=pd.DataFrame({'feature':train_data.columns,'importance':rf.feature_importances_})\n",
    "rf_feature.sort('importance')"
   ]
  },
  {
   "cell_type": "code",
   "execution_count": 298,
   "metadata": {
    "collapsed": false
   },
   "outputs": [
    {
     "data": {
      "image/png": "[encoded data removed]",
      "text/plain": [
       "<matplotlib.figure.Figure at 0x12adf5048>"
      ]
     },
     "metadata": {},
     "output_type": "display_data"
    }
   ],
   "source": [
    "t = RandomForestClassifier(n_estimators=1000,n_jobs=-1, oob_score = 1,min_samples_leaf=100).fit(train_data,train_label)\n",
    "ft=RandomForestClassifier().fit(rf_train,train_label)\n",
    "fpr_t, tpr_t, _ = roc_curve(validation_label, t.predict_proba(validation_data)[:,1])\n",
    "roc_auc_t = auc(fpr_t, tpr_t)\n",
    "\n",
    "fpr_ft, tpr_ft, _ = roc_curve(validation_label, ft.predict_proba(rf_validation)[:,1])\n",
    "roc_auc_ft = auc(fpr_ft, tpr_ft)\n",
    "\n",
    "plt.figure()\n",
    "plt.plot(fpr_t, tpr_t, label='before feature selection (area = %0.2f)' % roc_auc_t)\n",
    "plt.plot(fpr_ft, tpr_ft, label='after feature selection (area = %0.2f)' % roc_auc_ft)\n",
    "\n",
    "\n",
    "plt.plot([0, 1], [0, 1], 'k--')\n",
    "plt.xlim([0.0, 1.0])\n",
    "plt.ylim([0.0, 1.05])\n",
    "plt.xlabel('False Positive Rate')\n",
    "plt.ylabel('True Positive Rate')\n",
    "plt.title('User classification')\n",
    "plt.legend(loc=\"lower right\")\n",
    "plt.show()"
   ]
  },
  {
   "cell_type": "markdown",
   "metadata": {},
   "source": [
    "#### after feature selection"
   ]
  },
  {
   "cell_type": "code",
   "execution_count": 253,
   "metadata": {
    "collapsed": true
   },
   "outputs": [],
   "source": [
    "rf_train=train_data[['average_stars', 'review_count', 'yelping_since', 'yelping_age',\n",
    "        'num_friends']]\n",
    "rf_validation=validation_data[['average_stars', 'review_count', 'yelping_since', 'yelping_age',\n",
    "        'num_friends']]"
   ]
  },
  {
   "cell_type": "code",
   "execution_count": 254,
   "metadata": {
    "collapsed": false
   },
   "outputs": [
    {
     "name": "stdout",
     "output_type": "stream",
     "text": [
      "precision: [ 0.72537792  0.66834677]\n",
      "recall: [ 0.82797386  0.52514851]\n",
      "fscore: [ 0.77328775  0.58815702]\n",
      "support: [3825 2525]\n"
     ]
    }
   ],
   "source": [
    "# Create a random forest classifier. By convention, clf means 'classifier'\n",
    "rf = RandomForestClassifier(n_jobs=2)\n",
    "\n",
    "# Train the classifier to take the training features and learn how they relate\n",
    "# to the training y (the species)\n",
    "rf.fit(rf_train,train_label)\n",
    "precision, recall, fscore, support = score(validation_label, rf.predict(rf_validation))\n",
    "\n",
    "print('precision: {}'.format(precision))\n",
    "print('recall: {}'.format(recall))\n",
    "print('fscore: {}'.format(fscore))\n",
    "print('support: {}'.format(support))"
   ]
  },
  {
   "cell_type": "markdown",
   "metadata": {},
   "source": [
    "### gradient boosting"
   ]
  },
  {
   "cell_type": "code",
   "execution_count": 191,
   "metadata": {
    "collapsed": false
   },
   "outputs": [
    {
     "name": "stdout",
     "output_type": "stream",
     "text": [
      "precision: [ 0.75969173  0.72340426]\n",
      "recall: [ 0.85045752  0.59247525]\n",
      "fscore: [ 0.80251634  0.65142608]\n",
      "support: [3825 2525]\n"
     ]
    }
   ],
   "source": [
    "g = GradientBoostingClassifier(learning_rate=0.2).fit(train_data,train_label)\n",
    "precision, recall, fscore, support = score(validation_label, g.predict(validation_data))\n",
    "\n",
    "print('precision: {}'.format(precision))\n",
    "print('recall: {}'.format(recall))\n",
    "print('fscore: {}'.format(fscore))\n",
    "print('support: {}'.format(support))"
   ]
  },
  {
   "cell_type": "code",
   "execution_count": 27,
   "metadata": {
    "collapsed": false
   },
   "outputs": [
    {
     "data": {
      "image/png": "[encoded data removed]",
      "text/plain": [
       "<matplotlib.figure.Figure at 0x116772a90>"
      ]
     },
     "metadata": {},
     "output_type": "display_data"
    }
   ],
   "source": [
    "t = GradientBoostingClassifier(learning_rate=0.2).fit(train_data,train_label)\n",
    "fpr_t, tpr_t, _ = roc_curve(validation_label, t.predict_proba(validation_data)[:,1])\n",
    "roc_auc_t = auc(fpr_t, tpr_t)\n",
    "\n",
    "\n",
    "\n",
    "plt.figure()\n",
    "plt.plot(fpr_t, tpr_t, label='Gradient boosting (area = %0.2f)' % roc_auc_t)\n",
    "\n",
    "\n",
    "plt.plot([0, 1], [0, 1], 'k--')\n",
    "plt.xlim([0.0, 1.0])\n",
    "plt.ylim([0.0, 1.05])\n",
    "plt.xlabel('False Positive Rate')\n",
    "plt.ylabel('True Positive Rate')\n",
    "plt.title('User classification')\n",
    "plt.legend(loc=\"lower right\")\n",
    "plt.show()"
   ]
  },
  {
   "cell_type": "code",
   "execution_count": 372,
   "metadata": {
    "collapsed": false
   },
   "outputs": [
    {
     "name": "stderr",
     "output_type": "stream",
     "text": [
      "/Users/stevezhang/anaconda/lib/python3.6/site-packages/ipykernel/__main__.py:2: FutureWarning:\n",
      "\n",
      "sort(columns=....) is deprecated, use sort_values(by=.....)\n",
      "\n"
     ]
    },
    {
     "data": {
      "text/html": [
       "<div>\n",
       "<table border=\"1\" class=\"dataframe\">\n",
       "  <thead>\n",
       "    <tr style=\"text-align: right;\">\n",
       "      <th></th>\n",
       "      <th>feature</th>\n",
       "      <th>importance</th>\n",
       "    </tr>\n",
       "  </thead>\n",
       "  <tbody>\n",
       "    <tr>\n",
       "      <th>0</th>\n",
       "      <td>average_stars</td>\n",
       "      <td>0.382302</td>\n",
       "    </tr>\n",
       "    <tr>\n",
       "      <th>15</th>\n",
       "      <td>review_count</td>\n",
       "      <td>0.140672</td>\n",
       "    </tr>\n",
       "    <tr>\n",
       "      <th>17</th>\n",
       "      <td>yelping_since</td>\n",
       "      <td>0.130636</td>\n",
       "    </tr>\n",
       "    <tr>\n",
       "      <th>16</th>\n",
       "      <td>useful</td>\n",
       "      <td>0.053744</td>\n",
       "    </tr>\n",
       "    <tr>\n",
       "      <th>14</th>\n",
       "      <td>funny</td>\n",
       "      <td>0.032659</td>\n",
       "    </tr>\n",
       "    <tr>\n",
       "      <th>19</th>\n",
       "      <td>num_friends</td>\n",
       "      <td>0.031914</td>\n",
       "    </tr>\n",
       "    <tr>\n",
       "      <th>9</th>\n",
       "      <td>compliment_plain</td>\n",
       "      <td>0.029120</td>\n",
       "    </tr>\n",
       "    <tr>\n",
       "      <th>11</th>\n",
       "      <td>compliment_writer</td>\n",
       "      <td>0.023282</td>\n",
       "    </tr>\n",
       "    <tr>\n",
       "      <th>13</th>\n",
       "      <td>fans</td>\n",
       "      <td>0.020568</td>\n",
       "    </tr>\n",
       "    <tr>\n",
       "      <th>5</th>\n",
       "      <td>compliment_list</td>\n",
       "      <td>0.017188</td>\n",
       "    </tr>\n",
       "    <tr>\n",
       "      <th>6</th>\n",
       "      <td>compliment_more</td>\n",
       "      <td>0.016944</td>\n",
       "    </tr>\n",
       "    <tr>\n",
       "      <th>1</th>\n",
       "      <td>compliment_cool</td>\n",
       "      <td>0.014629</td>\n",
       "    </tr>\n",
       "    <tr>\n",
       "      <th>4</th>\n",
       "      <td>compliment_hot</td>\n",
       "      <td>0.014476</td>\n",
       "    </tr>\n",
       "    <tr>\n",
       "      <th>12</th>\n",
       "      <td>cool</td>\n",
       "      <td>0.014265</td>\n",
       "    </tr>\n",
       "    <tr>\n",
       "      <th>3</th>\n",
       "      <td>compliment_funny</td>\n",
       "      <td>0.014158</td>\n",
       "    </tr>\n",
       "    <tr>\n",
       "      <th>18</th>\n",
       "      <td>yelping_age</td>\n",
       "      <td>0.013851</td>\n",
       "    </tr>\n",
       "    <tr>\n",
       "      <th>2</th>\n",
       "      <td>compliment_cute</td>\n",
       "      <td>0.012375</td>\n",
       "    </tr>\n",
       "    <tr>\n",
       "      <th>10</th>\n",
       "      <td>compliment_profile</td>\n",
       "      <td>0.011868</td>\n",
       "    </tr>\n",
       "    <tr>\n",
       "      <th>20</th>\n",
       "      <td>num_elite</td>\n",
       "      <td>0.010833</td>\n",
       "    </tr>\n",
       "    <tr>\n",
       "      <th>7</th>\n",
       "      <td>compliment_note</td>\n",
       "      <td>0.009107</td>\n",
       "    </tr>\n",
       "    <tr>\n",
       "      <th>8</th>\n",
       "      <td>compliment_photos</td>\n",
       "      <td>0.005408</td>\n",
       "    </tr>\n",
       "  </tbody>\n",
       "</table>\n",
       "</div>"
      ],
      "text/plain": [
       "               feature  importance\n",
       "0        average_stars    0.382302\n",
       "15        review_count    0.140672\n",
       "17       yelping_since    0.130636\n",
       "16              useful    0.053744\n",
       "14               funny    0.032659\n",
       "19         num_friends    0.031914\n",
       "9     compliment_plain    0.029120\n",
       "11   compliment_writer    0.023282\n",
       "13                fans    0.020568\n",
       "5      compliment_list    0.017188\n",
       "6      compliment_more    0.016944\n",
       "1      compliment_cool    0.014629\n",
       "4       compliment_hot    0.014476\n",
       "12                cool    0.014265\n",
       "3     compliment_funny    0.014158\n",
       "18         yelping_age    0.013851\n",
       "2      compliment_cute    0.012375\n",
       "10  compliment_profile    0.011868\n",
       "20           num_elite    0.010833\n",
       "7      compliment_note    0.009107\n",
       "8    compliment_photos    0.005408"
      ]
     },
     "execution_count": 372,
     "metadata": {},
     "output_type": "execute_result"
    }
   ],
   "source": [
    "g_feature=pd.DataFrame({'feature':train_data.columns,'importance':g.feature_importances_})\n",
    "g_feature.sort('importance',ascending=0)"
   ]
  },
  {
   "cell_type": "code",
   "execution_count": 342,
   "metadata": {
    "collapsed": false
   },
   "outputs": [],
   "source": [
    "gb_feature=pd.DataFrame({'feature':train_data.columns,'importance':g.feature_importances_})\n",
    "gb_feature.sort('importance')"
   ]
  },
  {
   "cell_type": "markdown",
   "metadata": {},
   "source": [
    "### Naive_bayes"
   ]
  },
  {
   "cell_type": "code",
   "execution_count": 44,
   "metadata": {
    "collapsed": false,
    "scrolled": false
   },
   "outputs": [
    {
     "name": "stdout",
     "output_type": "stream",
     "text": [
      "precision: [ 0.66005984  0.70558882]\n",
      "recall: [ 0.92287582  0.28      ]\n",
      "fscore: [ 0.76965006  0.40090729]\n",
      "support: [3825 2525]\n"
     ]
    }
   ],
   "source": [
    "from sklearn.naive_bayes import GaussianNB\n",
    "X = train_data\n",
    "y = train_label\n",
    "gnb = GaussianNB()\n",
    "gnb.fit(X, y)  \n",
    "precision, recall, fscore, support = score(validation_label, gnb.predict(validation_data))\n",
    "\n",
    "print('precision: {}'.format(precision))\n",
    "print('recall: {}'.format(recall))\n",
    "print('fscore: {}'.format(fscore))\n",
    "print('support: {}'.format(support))"
   ]
  },
  {
   "cell_type": "code",
   "execution_count": 47,
   "metadata": {
    "collapsed": false
   },
   "outputs": [
    {
     "data": {
      "text/plain": [
       "array([ 12102.,   7898.])"
      ]
     },
     "execution_count": 47,
     "metadata": {},
     "output_type": "execute_result"
    }
   ],
   "source": [
    "gnb.class_count_"
   ]
  },
  {
   "cell_type": "code",
   "execution_count": 45,
   "metadata": {
    "collapsed": false
   },
   "outputs": [
    {
     "data": {
      "image/png": "[encoded data removed]",
      "text/plain": [
       "<matplotlib.figure.Figure at 0x11d2b97b8>"
      ]
     },
     "metadata": {},
     "output_type": "display_data"
    }
   ],
   "source": [
    "t = GaussianNB().fit(train_data,train_label)\n",
    "fpr_t, tpr_t, _ = roc_curve(validation_label, t.predict_proba(validation_data)[:,1])\n",
    "roc_auc_t = auc(fpr_t, tpr_t)\n",
    "\n",
    "\n",
    "\n",
    "plt.figure()\n",
    "plt.plot(fpr_t, tpr_t, label='Naive Bayes (area = %0.2f)' % roc_auc_t)\n",
    "\n",
    "\n",
    "plt.plot([0, 1], [0, 1], 'k--')\n",
    "plt.xlim([0.0, 1.0])\n",
    "plt.ylim([0.0, 1.05])\n",
    "plt.xlabel('False Positive Rate')\n",
    "plt.ylabel('True Positive Rate')\n",
    "plt.title('User classification')\n",
    "plt.legend(loc=\"lower right\")\n",
    "plt.show()"
   ]
  },
  {
   "cell_type": "code",
   "execution_count": 23,
   "metadata": {
    "collapsed": false,
    "scrolled": true
   },
   "outputs": [
    {
     "name": "stderr",
     "output_type": "stream",
     "text": [
      "/Users/stevezhang/anaconda/lib/python3.6/site-packages/statsmodels/nonparametric/kdetools.py:20: VisibleDeprecationWarning:\n",
      "\n",
      "using a non-integer number instead of an integer will result in an error in the future\n",
      "\n"
     ]
    },
    {
     "data": {
      "text/plain": [
       "<matplotlib.legend.Legend at 0x147e0a748>"
      ]
     },
     "execution_count": 23,
     "metadata": {},
     "output_type": "execute_result"
    },
    {
     "data": {
      "image/png": "[encoded data removed]",
      "text/plain": [
       "<matplotlib.figure.Figure at 0x1410d0ef0>"
      ]
     },
     "metadata": {},
     "output_type": "display_data"
    }
   ],
   "source": [
    "import seaborn as sns\n",
    "fig=plt.figure(figsize=[14,7])\n",
    "ax1=fig.add_subplot(221)\n",
    "sns.distplot(df_tag_user1[df_tag_user1.user_class==1].average_stars,label='contrarian',color='r')\n",
    "sns.distplot(df_tag_user1[df_tag_user1.user_class==0].average_stars,label='trend_follower',norm_hist=1)\n",
    "plt.legend(prop={'size': 12 })\n",
    "ax1=fig.add_subplot(222)\n",
    "plt.xscale('log')\n",
    "#plt.xlim(0,1500)\n",
    "sns.distplot(df_tag_user1[df_tag_user1.user_class==1].review_count,label='contrarian',bins=500,color='r')\n",
    "sns.distplot(df_tag_user1[df_tag_user1.user_class==0].review_count,label='trend_follower',bins=500)\n",
    "plt.legend(prop={'size': 12 })\n",
    "ax1=fig.add_subplot(223)\n",
    "sns.distplot(df_tag_user1[df_tag_user1.user_class==1].yelping_since,label='contrarian',color='r')\n",
    "sns.distplot(df_tag_user1[df_tag_user1.user_class==0].yelping_since,label='trend_follower')\n",
    "plt.legend(prop={'size': 12 })\n",
    "# plt.ylim(0,0.003)\n",
    "# plt.xlim(0,500)\n",
    "ax1=fig.add_subplot(224)\n",
    "sns.distplot(df_tag_user1[df_tag_user1.user_class==1].compliment_funny,label='contrarian',bins=500,color='r')\n",
    "sns.distplot(df_tag_user1[df_tag_user1.user_class==0].compliment_funny,label='trend_follower',bins=500)\n",
    "plt.legend()\n",
    "plt.xscale('log')\n",
    "#plt.xlim(0,2000)\n",
    "plt.legend( prop={'size': 12 })"
   ]
  },
  {
   "cell_type": "code",
   "execution_count": 27,
   "metadata": {
    "collapsed": false
   },
   "outputs": [
    {
     "name": "stderr",
     "output_type": "stream",
     "text": [
      "/Users/stevezhang/anaconda/lib/python3.6/site-packages/statsmodels/nonparametric/kdetools.py:20: VisibleDeprecationWarning:\n",
      "\n",
      "using a non-integer number instead of an integer will result in an error in the future\n",
      "\n"
     ]
    },
    {
     "data": {
      "text/plain": [
       "<matplotlib.legend.Legend at 0x161b95978>"
      ]
     },
     "execution_count": 27,
     "metadata": {},
     "output_type": "execute_result"
    },
    {
     "data": {
      "image/png": "[encoded data removed]",
      "text/plain": [
       "<matplotlib.figure.Figure at 0x15f5767f0>"
      ]
     },
     "metadata": {},
     "output_type": "display_data"
    }
   ],
   "source": [
    "fig=plt.figure(figsize=[14,7])\n",
    "ax2=fig.add_subplot(221)\n",
    "sns.distplot(df_tag_user1[df_tag_user1.user_class==1].yelping_age,label='contrarian',color='r')\n",
    "sns.distplot(df_tag_user1[df_tag_user1.user_class==0].yelping_age,label='trend_follower')\n",
    "plt.legend( prop={'size': 12 })\n",
    "#plt.ylim(0,0.0003)\n",
    "ax2=fig.add_subplot(222)\n",
    "sns.distplot(df_tag_user1[df_tag_user1.user_class==1].compliment_profile,bins=500,label='contrarian',color='r')\n",
    "sns.distplot(df_tag_user1[df_tag_user1.user_class==0].compliment_profile,label='trend_follower',bins=500)\n",
    "plt.xscale('log')\n",
    "plt.legend( prop={'size': 12 })\n",
    "ax2=fig.add_subplot(223)\n",
    "sns.distplot(df_tag_user1[df_tag_user1.user_class==1].num_friends,label='contrarian',bins=500,color='r')\n",
    "sns.distplot(df_tag_user1[df_tag_user1.user_class==0].num_friends,label='trend_follower',bins=500)\n",
    "plt.xscale('log')\n",
    "plt.legend( prop={'size': 12 })\n",
    "# plt.ylim(0,0.0015)\n",
    "# plt.xlim(0,3000)\n",
    "ax2=fig.add_subplot(224)\n",
    "# sns.distplot(df_tag_user1[df_tag_user1.user_class==1].num_elite,label='contrarian')\n",
    "# sns.distplot(df_tag_user1[df_tag_user1.user_class==0].num_elite,label='trend_follower')\n",
    "sns.distplot(df_tag_user1[df_tag_user1.user_class==1].fans,label='contrarian',bins=500,color='r')\n",
    "sns.distplot(df_tag_user1[df_tag_user1.user_class==0].fans,label='trend_follower',bins=500)\n",
    "plt.xscale('log')\n",
    "plt.legend( prop={'size': 12 })"
   ]
  },
  {
   "cell_type": "code",
   "execution_count": 213,
   "metadata": {
    "collapsed": false
   },
   "outputs": [
    {
     "data": {
      "text/plain": [
       "0.667244094488189"
      ]
     },
     "execution_count": 213,
     "metadata": {},
     "output_type": "execute_result"
    }
   ],
   "source": [
    "from sklearn.metrics import accuracy_score\n",
    "from sklearn.metrics import classification_report\n",
    "target_names = ['trend follower', 'contrarian']\n",
    "#bayes\n",
    "accuracy_score(validation_label, gnb.predict(validation_data))"
   ]
  },
  {
   "cell_type": "code",
   "execution_count": 211,
   "metadata": {
    "collapsed": false
   },
   "outputs": [
    {
     "name": "stdout",
     "output_type": "stream",
     "text": [
      "                precision    recall  f1-score   support\n",
      "\n",
      "trend follower       0.66      0.92      0.77      3825\n",
      "    contrarian       0.71      0.28      0.40      2525\n",
      "\n",
      "   avg / total       0.68      0.67      0.62      6350\n",
      "\n"
     ]
    }
   ],
   "source": [
    "print(classification_report(validation_label, gnb.predict(validation_data), target_names=target_names))"
   ]
  },
  {
   "cell_type": "code",
   "execution_count": 205,
   "metadata": {
    "collapsed": false
   },
   "outputs": [
    {
     "data": {
      "text/plain": [
       "0.74787401574803147"
      ]
     },
     "execution_count": 205,
     "metadata": {},
     "output_type": "execute_result"
    }
   ],
   "source": [
    "#gradient boosting\n",
    "accuracy_score(validation_label, g.predict(validation_data))"
   ]
  },
  {
   "cell_type": "code",
   "execution_count": 214,
   "metadata": {
    "collapsed": false
   },
   "outputs": [
    {
     "name": "stdout",
     "output_type": "stream",
     "text": [
      "                precision    recall  f1-score   support\n",
      "\n",
      "trend follower       0.76      0.85      0.80      3825\n",
      "    contrarian       0.72      0.59      0.65      2525\n",
      "\n",
      "   avg / total       0.75      0.75      0.74      6350\n",
      "\n"
     ]
    }
   ],
   "source": [
    "print(classification_report(validation_label, g.predict(validation_data), target_names=target_names))"
   ]
  },
  {
   "cell_type": "code",
   "execution_count": 206,
   "metadata": {
    "collapsed": false
   },
   "outputs": [
    {
     "data": {
      "text/plain": [
       "0.73480314960629922"
      ]
     },
     "execution_count": 206,
     "metadata": {},
     "output_type": "execute_result"
    }
   ],
   "source": [
    "#random forest\n",
    "accuracy_score(validation_label, rf.predict(validation_data))"
   ]
  },
  {
   "cell_type": "code",
   "execution_count": 215,
   "metadata": {
    "collapsed": false
   },
   "outputs": [
    {
     "name": "stdout",
     "output_type": "stream",
     "text": [
      "                precision    recall  f1-score   support\n",
      "\n",
      "trend follower       0.73      0.90      0.80      3825\n",
      "    contrarian       0.76      0.48      0.59      2525\n",
      "\n",
      "   avg / total       0.74      0.73      0.72      6350\n",
      "\n"
     ]
    }
   ],
   "source": [
    "print(classification_report(validation_label, rf.predict(validation_data), target_names=target_names))"
   ]
  },
  {
   "cell_type": "code",
   "execution_count": 203,
   "metadata": {
    "collapsed": false
   },
   "outputs": [
    {
     "data": {
      "text/plain": [
       "0.65842519685039369"
      ]
     },
     "execution_count": 203,
     "metadata": {},
     "output_type": "execute_result"
    }
   ],
   "source": [
    "#decision tree\n",
    "accuracy_score(validation_label, clf.predict(validation_data))"
   ]
  },
  {
   "cell_type": "code",
   "execution_count": 216,
   "metadata": {
    "collapsed": false
   },
   "outputs": [
    {
     "name": "stdout",
     "output_type": "stream",
     "text": [
      "                precision    recall  f1-score   support\n",
      "\n",
      "trend follower       0.72      0.71      0.71      3825\n",
      "    contrarian       0.57      0.58      0.57      2525\n",
      "\n",
      "   avg / total       0.66      0.66      0.66      6350\n",
      "\n"
     ]
    }
   ],
   "source": [
    "print(classification_report(validation_label, clf.predict(validation_data), target_names=target_names))"
   ]
  },
  {
   "cell_type": "code",
   "execution_count": 208,
   "metadata": {
    "collapsed": false
   },
   "outputs": [
    {
     "data": {
      "text/plain": [
       "0.59999999999999998"
      ]
     },
     "execution_count": 208,
     "metadata": {},
     "output_type": "execute_result"
    }
   ],
   "source": [
    "#logistic regressin\n",
    "accuracy_score(validation_label, lg.predict(validation_data))"
   ]
  },
  {
   "cell_type": "code",
   "execution_count": 218,
   "metadata": {
    "collapsed": false
   },
   "outputs": [
    {
     "name": "stdout",
     "output_type": "stream",
     "text": [
      "                precision    recall  f1-score   support\n",
      "\n",
      "trend follower       0.60      0.98      0.75      3825\n",
      "    contrarian       0.43      0.02      0.03      2525\n",
      "\n",
      "   avg / total       0.53      0.60      0.46      6350\n",
      "\n"
     ]
    }
   ],
   "source": [
    "print(classification_report(validation_label, lg.predict(validation_data), target_names=target_names))"
   ]
  },
  {
   "cell_type": "markdown",
   "metadata": {},
   "source": [
    "### Chi square on labels and usefuls..\n"
   ]
  },
  {
   "cell_type": "code",
   "execution_count": 284,
   "metadata": {
    "collapsed": false
   },
   "outputs": [],
   "source": [
    "chi_cols=['compliment_cool',\n",
    "       'compliment_cute', 'compliment_funny', 'compliment_hot',\n",
    "       'compliment_list', 'compliment_more', 'compliment_note',\n",
    "       'compliment_photos', 'compliment_plain', 'compliment_profile',\n",
    "       'compliment_writer','useful']"
   ]
  },
  {
   "cell_type": "code",
   "execution_count": 285,
   "metadata": {
    "collapsed": false
   },
   "outputs": [],
   "source": [
    "chi_0=[]\n",
    "chi_1=[]\n",
    "for col in chi_cols:\n",
    "    chi_0.append(int(np.average(df_tag_user1[df_tag_user1.user_class==0][col])))\n",
    "    chi_1.append(int(np.average(df_tag_user1[df_tag_user1.user_class==1][col])))"
   ]
  },
  {
   "cell_type": "code",
   "execution_count": 277,
   "metadata": {
    "collapsed": false
   },
   "outputs": [],
   "source": [
    "from scipy.stats import chi2_contingency as chi2"
   ]
  },
  {
   "cell_type": "code",
   "execution_count": 286,
   "metadata": {
    "collapsed": false
   },
   "outputs": [
    {
     "data": {
      "text/plain": [
       "Power_divergenceResult(statistic=array([  0.66666667,   0.        ,   0.66666667,   0.12676056,\n",
       "         0.        ,   0.14285714,   0.        ,   0.29032258,\n",
       "         1.04166667,   0.2       ,   0.44444444,  14.33432836]), pvalue=array([  4.14216178e-01,   1.00000000e+00,   4.14216178e-01,\n",
       "         7.21814730e-01,   1.00000000e+00,   7.05456986e-01,\n",
       "         1.00000000e+00,   5.90013887e-01,   3.07434166e-01,\n",
       "         6.54720846e-01,   5.04985075e-01,   1.53048390e-04]))"
      ]
     },
     "execution_count": 286,
     "metadata": {},
     "output_type": "execute_result"
    }
   ],
   "source": [
    "obs=np.array([chi_0,chi_1])\n",
    "sp.stats.chisquare(obs)\n"
   ]
  },
  {
   "cell_type": "code",
   "execution_count": 283,
   "metadata": {
    "collapsed": false
   },
   "outputs": [
    {
     "data": {
      "text/plain": [
       "array([[ 44,   2,  44,  34,  14,  43,   2,  16, 286],\n",
       "       [ 52,   2,  52,  37,  17,  53,   3,  20, 384]])"
      ]
     },
     "execution_count": 283,
     "metadata": {},
     "output_type": "execute_result"
    }
   ],
   "source": [
    "obs"
   ]
  },
  {
   "cell_type": "code",
   "execution_count": 287,
   "metadata": {
    "collapsed": false
   },
   "outputs": [
    {
     "data": {
      "text/plain": [
       "0.00015304839"
      ]
     },
     "execution_count": 287,
     "metadata": {},
     "output_type": "execute_result"
    }
   ],
   "source": [
    "1.53048390e-04"
   ]
  }
 ],
 "metadata": {
  "kernelspec": {
   "display_name": "Python 3",
   "language": "python",
   "name": "python3"
  },
  "language_info": {
   "codemirror_mode": {
    "name": "ipython",
    "version": 3
   },
   "file_extension": ".py",
   "mimetype": "text/x-python",
   "name": "python",
   "nbconvert_exporter": "python",
   "pygments_lexer": "ipython3",
   "version": "3.6.1"
  }
 },
 "nbformat": 4,
 "nbformat_minor": 2
}
