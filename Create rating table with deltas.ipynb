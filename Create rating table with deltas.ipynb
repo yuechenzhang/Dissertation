{
 "cells": [
  {
   "cell_type": "code",
   "execution_count": 1,
   "metadata": {
    "collapsed": true
   },
   "outputs": [],
   "source": [
    "import json\n",
    "import numpy\n",
    "from pandas.io.json import json_normalize\n",
    "from time import time\n",
    "%matplotlib inline\n",
    "import pandas as pd\n",
    "import numpy as np\n",
    "import matplotlib.mlab as mlab\n",
    "import matplotlib.pyplot as plt\n",
    "import scipy.stats as sp\n",
    "from plotly import figure_factory as ff"
   ]
  },
  {
   "cell_type": "code",
   "execution_count": 2,
   "metadata": {
    "collapsed": true
   },
   "outputs": [],
   "source": [
    "df_business = pd.read_csv(\"yelp_academic_dataset_business.csv\",encoding='latin-1') "
   ]
  },
  {
   "cell_type": "code",
   "execution_count": 3,
   "metadata": {
    "collapsed": true
   },
   "outputs": [],
   "source": [
    "df_review=pd.read_csv(\"yelp_academic_dataset_review.csv\",encoding='latin-1') "
   ]
  },
  {
   "cell_type": "code",
   "execution_count": 4,
   "metadata": {
    "collapsed": true
   },
   "outputs": [],
   "source": [
    "df_user=pd.read_csv(\"yelp_academic_dataset_user.csv\",encoding='latin-1') "
   ]
  },
  {
   "cell_type": "markdown",
   "metadata": {},
   "source": [
    "# Data filtering (If need Filtering)\n",
    "## 1. Filter out the American cities from the review dataset"
   ]
  },
  {
   "cell_type": "code",
   "execution_count": 91,
   "metadata": {
    "collapsed": true
   },
   "outputs": [],
   "source": [
    "def city_filter(df_business,cities):\n",
    "    return df_business[df_business.city.isin(cities)]\n",
    "cities=['Toronto']#['Las Vegas', 'Phoenix', 'Scottsdale','Charlotte', 'Pittsburgh']\n",
    "df_abusiness=city_filter(df_business,cities)"
   ]
  },
  {
   "cell_type": "markdown",
   "metadata": {},
   "source": [
    "## 2. Filter out users with less than M reviews."
   ]
  },
  {
   "cell_type": "code",
   "execution_count": null,
   "metadata": {
    "collapsed": true
   },
   "outputs": [],
   "source": [
    "def user_filter(df_user,min_review):\n",
    "    return df_user[df_user.review_count>min_review]\n",
    "df_userf=user_filter(df_user,20)"
   ]
  },
  {
   "cell_type": "markdown",
   "metadata": {},
   "source": [
    "## 3. Filter out business with less than X reviews"
   ]
  },
  {
   "cell_type": "code",
   "execution_count": null,
   "metadata": {
    "collapsed": true
   },
   "outputs": [],
   "source": [
    "def business_filter(df_business,min_review):\n",
    "    return df_business[df_business.review_count>min_review]\n",
    "df_businessf=business_filter(df_abusiness,50)"
   ]
  },
  {
   "cell_type": "code",
   "execution_count": 5,
   "metadata": {
    "collapsed": true
   },
   "outputs": [],
   "source": [
    "#Return df_abusiness and df_abr\n",
    "#df_abu\n",
    "def bus_review_combine(df_business,df_review):\n",
    "    #combine the two tables \n",
    "    #df_abr: df_american business and review combined table\n",
    "    #df_abr=pd.merge(left=df_review,right=df_abusiness, how='right', left_on='business_id', right_on='business_id')\n",
    "    df_business=df_business.rename(columns={'stars':'bus_stars'})\n",
    "    df_abr=pd.merge(left=df_review,right=df_business,how='right', on='business_id')\n",
    "    df_abr=df_abr[['date','business_id','user_id','stars']]\n",
    "    return df_abr"
   ]
  },
  {
   "cell_type": "markdown",
   "metadata": {},
   "source": [
    "# Start from here if Filtering is not needed"
   ]
  },
  {
   "cell_type": "code",
   "execution_count": 6,
   "metadata": {
    "collapsed": false
   },
   "outputs": [],
   "source": [
    "#Use this line if filtering is needed:\n",
    "#df_abr=bus_review_combine(df_abusiness,df_review)\n",
    "#Use this line if filtering is NOT needed:\n",
    "df_abr=bus_review_combine(df_abusiness,df_review)\n"
   ]
  },
  {
   "cell_type": "code",
   "execution_count": 83,
   "metadata": {
    "collapsed": true
   },
   "outputs": [],
   "source": [
    "def a_rating_creat(aggregations, base_table):\n",
    "    dup=base_table.copy()\n",
    "    base_table=base_table.groupby(['business_id','date','user_id'])['stars'].agg(aggregations)\n",
    "    #a=base_table.groupby(['business_id','date','user_id']).agg(aggregations)\n",
    "    base_table=base_table.drop(base_table.index[0])\n",
    "    base_table=base_table.reset_index()\n",
    "    base_table.columns = base_table.columns.get_level_values(0)\n",
    "    base_table.columns=['business_id','date','user_id','sum','count']\n",
    "    t=base_table.groupby(['business_id','date','user_id']).sum().groupby(level=[0]).cumsum()\n",
    "    t=t.reset_index()\n",
    "    base_table['cumcount']=t['count']\n",
    "    #calculate the aggregated ratings for each date of each business\n",
    "    l=[]\n",
    "    for i in range(0,len(base_table)):\n",
    "        if i==0:\n",
    "            j=1\n",
    "            while base_table.business_id[i]==base_table.business_id[i+j-1]:\n",
    "                if base_table.business_id[i]==base_table.business_id[i+j-1]:\n",
    "                    l.append(sum(base_table['sum'][i:i+j])/sum(base_table['count'][i:i+j]))\n",
    "                    #print(i,i+a)\n",
    "                    j+=1\n",
    "\n",
    "        elif base_table.business_id[i]!=base_table.business_id[i-1]:\n",
    "            j=1\n",
    "            while base_table.business_id[i]==base_table.business_id[i+j-1]:\n",
    "                l.append(sum(base_table['sum'][i:i+j])/sum(base_table['count'][i:i+j]))\n",
    "                #print(i,i+a)\n",
    "                if (i+j)==len(base_table):\n",
    "                #if (i+j)<10000-1:\n",
    "                    break\n",
    "                else:\n",
    "                    j+=1\n",
    "    #add the cumulative average list to the table, call the column 'cumav' as cumulative average\n",
    "    base_table['cumav']=l\n",
    "    df_rating=pd.merge(left=base_table,right=dup, how='left',on=['business_id','date','user_id'])\n",
    "    return df_rating"
   ]
  },
  {
   "cell_type": "code",
   "execution_count": 96,
   "metadata": {
    "collapsed": true
   },
   "outputs": [],
   "source": [
    "aggregations={\n",
    "    'stars':{\n",
    "        'sum':'sum',\n",
    "        'count':'count'\n",
    "    }\n",
    "}"
   ]
  },
  {
   "cell_type": "code",
   "execution_count": 119,
   "metadata": {
    "collapsed": false
   },
   "outputs": [],
   "source": [
    "df_rating=a_rating_creat(aggregations,df_abr)"
   ]
  },
  {
   "cell_type": "code",
   "execution_count": 120,
   "metadata": {
    "collapsed": true
   },
   "outputs": [],
   "source": [
    "def round_of_rating(row):\n",
    "    return round(row.cumav * 2) / 2"
   ]
  },
  {
   "cell_type": "code",
   "execution_count": 121,
   "metadata": {
    "collapsed": true
   },
   "outputs": [],
   "source": [
    "df_rating['cum_rating']=df_rating.apply(lambda row: round_of_rating(row),axis=1)"
   ]
  },
  {
   "cell_type": "code",
   "execution_count": 122,
   "metadata": {
    "collapsed": true
   },
   "outputs": [],
   "source": [
    "del df_rating['cumav']"
   ]
  },
  {
   "cell_type": "markdown",
   "metadata": {},
   "source": [
    "## 2. measure the delta"
   ]
  },
  {
   "cell_type": "markdown",
   "metadata": {},
   "source": [
    "### 1) measure absolute delta"
   ]
  },
  {
   "cell_type": "code",
   "execution_count": 123,
   "metadata": {
    "collapsed": true
   },
   "outputs": [],
   "source": [
    "df_rating['delta']=df_rating.stars-df_rating.cum_rating"
   ]
  },
  {
   "cell_type": "markdown",
   "metadata": {},
   "source": [
    "### 2) measure normalised delta"
   ]
  },
  {
   "cell_type": "code",
   "execution_count": 124,
   "metadata": {
    "collapsed": true
   },
   "outputs": [],
   "source": [
    "df_rating['norm_delta']=df_rating.delta/df_rating.cum_rating"
   ]
  },
  {
   "cell_type": "markdown",
   "metadata": {},
   "source": [
    "## 3. User rating order by dates"
   ]
  },
  {
   "cell_type": "code",
   "execution_count": 125,
   "metadata": {
    "collapsed": false
   },
   "outputs": [
    {
     "name": "stderr",
     "output_type": "stream",
     "text": [
      "/Users/stevezhang/anaconda/lib/python3.6/site-packages/ipykernel/__main__.py:1: FutureWarning:\n",
      "\n",
      "sort(columns=....) is deprecated, use sort_values(by=.....)\n",
      "\n"
     ]
    }
   ],
   "source": [
    "df_rating=df_rating.sort('date')"
   ]
  },
  {
   "cell_type": "code",
   "execution_count": 126,
   "metadata": {
    "collapsed": false
   },
   "outputs": [],
   "source": [
    "i=df_rating.groupby('user_id')['stars'].apply(list).reset_index()\n",
    "df_rating=pd.merge(left=i,right=df_rating,on='user_id',how='right')"
   ]
  },
  {
   "cell_type": "code",
   "execution_count": 127,
   "metadata": {
    "collapsed": false
   },
   "outputs": [],
   "source": [
    "df_rating=df_rating.rename(columns={'stars_x':'ratings','stars_y':'stars'})"
   ]
  },
  {
   "cell_type": "code",
   "execution_count": 103,
   "metadata": {
    "collapsed": true
   },
   "outputs": [],
   "source": [
    "df_rating.to_csv('CA_rating_table.csv')"
   ]
  },
  {
   "cell_type": "code",
   "execution_count": 128,
   "metadata": {
    "collapsed": true
   },
   "outputs": [],
   "source": [
    "df_rating.to_csv('basic_rating_table.csv')"
   ]
  },
  {
   "cell_type": "code",
   "execution_count": 70,
   "metadata": {
    "collapsed": true
   },
   "outputs": [],
   "source": [
    "df_rating.to_csv('american_rating_table.csv')"
   ]
  }
 ],
 "metadata": {
  "kernelspec": {
   "display_name": "Python 3",
   "language": "python",
   "name": "python3"
  },
  "language_info": {
   "codemirror_mode": {
    "name": "ipython",
    "version": 3
   },
   "file_extension": ".py",
   "mimetype": "text/x-python",
   "name": "python",
   "nbconvert_exporter": "python",
   "pygments_lexer": "ipython3",
   "version": "3.6.1"
  }
 },
 "nbformat": 4,
 "nbformat_minor": 2
}
